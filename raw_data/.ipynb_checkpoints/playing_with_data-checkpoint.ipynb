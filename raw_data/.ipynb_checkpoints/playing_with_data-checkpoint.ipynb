{
 "cells": [
  {
   "cell_type": "code",
   "execution_count": 2,
   "metadata": {
    "collapsed": true
   },
   "outputs": [],
   "source": [
    "import pandas as pd\n",
    "import matplotlib.pyplot as plt"
   ]
  },
  {
   "cell_type": "code",
   "execution_count": 7,
   "metadata": {
    "collapsed": false
   },
   "outputs": [
    {
     "data": {
      "text/html": [
       "<div>\n",
       "<table border=\"1\" class=\"dataframe\">\n",
       "  <thead>\n",
       "    <tr style=\"text-align: right;\">\n",
       "      <th></th>\n",
       "      <th>id</th>\n",
       "      <th>created_at</th>\n",
       "      <th>coordinates</th>\n",
       "      <th>retweets</th>\n",
       "      <th>favorite_count</th>\n",
       "      <th>source</th>\n",
       "      <th>text</th>\n",
       "    </tr>\n",
       "  </thead>\n",
       "  <tbody>\n",
       "    <tr>\n",
       "      <th>0</th>\n",
       "      <td>788366643122536449</td>\n",
       "      <td>2016-10-18 13:10:29</td>\n",
       "      <td>NaN</td>\n",
       "      <td>9</td>\n",
       "      <td>55</td>\n",
       "      <td>Twitter for iPhone</td>\n",
       "      <td>Expanding a program we started 3 years ago.  h...</td>\n",
       "    </tr>\n",
       "    <tr>\n",
       "      <th>1</th>\n",
       "      <td>684034729809608705</td>\n",
       "      <td>2016-01-04 15:32:42</td>\n",
       "      <td>NaN</td>\n",
       "      <td>27</td>\n",
       "      <td>75</td>\n",
       "      <td>Twitter for iPhone</td>\n",
       "      <td>More press not doing hmwrk:office painted befo...</td>\n",
       "    </tr>\n",
       "    <tr>\n",
       "      <th>2</th>\n",
       "      <td>594130655820312576</td>\n",
       "      <td>2015-05-01 13:26:01</td>\n",
       "      <td>NaN</td>\n",
       "      <td>57</td>\n",
       "      <td>172</td>\n",
       "      <td>Twitter for iPhone</td>\n",
       "      <td>Glad to know one reporter does her homework......</td>\n",
       "    </tr>\n",
       "    <tr>\n",
       "      <th>3</th>\n",
       "      <td>577095893209460736</td>\n",
       "      <td>2015-03-15 13:15:57</td>\n",
       "      <td>{u'type': u'Point', u'coordinates': [-89.59349...</td>\n",
       "      <td>24</td>\n",
       "      <td>68</td>\n",
       "      <td>Twitter for iPhone</td>\n",
       "      <td>working chow line @ILFarmBureau Farmer's Share...</td>\n",
       "    </tr>\n",
       "    <tr>\n",
       "      <th>4</th>\n",
       "      <td>576816601690935297</td>\n",
       "      <td>2015-03-14 18:46:09</td>\n",
       "      <td>{u'type': u'Point', u'coordinates': [-89.67643...</td>\n",
       "      <td>12</td>\n",
       "      <td>32</td>\n",
       "      <td>Twitter for iPhone</td>\n",
       "      <td>In Jacksonville for Rotary w/my friend Dick Jo...</td>\n",
       "    </tr>\n",
       "  </tbody>\n",
       "</table>\n",
       "</div>"
      ],
      "text/plain": [
       "                   id           created_at  \\\n",
       "0  788366643122536449  2016-10-18 13:10:29   \n",
       "1  684034729809608705  2016-01-04 15:32:42   \n",
       "2  594130655820312576  2015-05-01 13:26:01   \n",
       "3  577095893209460736  2015-03-15 13:15:57   \n",
       "4  576816601690935297  2015-03-14 18:46:09   \n",
       "\n",
       "                                         coordinates  retweets  \\\n",
       "0                                                NaN         9   \n",
       "1                                                NaN        27   \n",
       "2                                                NaN        57   \n",
       "3  {u'type': u'Point', u'coordinates': [-89.59349...        24   \n",
       "4  {u'type': u'Point', u'coordinates': [-89.67643...        12   \n",
       "\n",
       "   favorite_count              source  \\\n",
       "0              55  Twitter for iPhone   \n",
       "1              75  Twitter for iPhone   \n",
       "2             172  Twitter for iPhone   \n",
       "3              68  Twitter for iPhone   \n",
       "4              32  Twitter for iPhone   \n",
       "\n",
       "                                                text  \n",
       "0  Expanding a program we started 3 years ago.  h...  \n",
       "1  More press not doing hmwrk:office painted befo...  \n",
       "2  Glad to know one reporter does her homework......  \n",
       "3  working chow line @ILFarmBureau Farmer's Share...  \n",
       "4  In Jacksonville for Rotary w/my friend Dick Jo...  "
      ]
     },
     "execution_count": 7,
     "metadata": {},
     "output_type": "execute_result"
    }
   ],
   "source": [
    "df = pd.read_csv('aaronschock_tweets.csv', encoding='utf-8')\n",
    "df.head()"
   ]
  },
  {
   "cell_type": "code",
   "execution_count": 8,
   "metadata": {
    "collapsed": false
   },
   "outputs": [
    {
     "name": "stdout",
     "output_type": "stream",
     "text": [
      "[u'Expanding a program we started 3 years ago.', u'https://t.co/PIWBzkJ10m  Join by visiting https://t.co/3xnfh18xBl https://t.co/4WTxlLH1oU']\n"
     ]
    }
   ],
   "source": [
    "from nltk.tokenize import sent_tokenize\n",
    "\n",
    "sentences = [sent_tokenize(x) for x in df['text']]\n",
    "print sentences[0]"
   ]
  },
  {
   "cell_type": "code",
   "execution_count": 9,
   "metadata": {
    "collapsed": true
   },
   "outputs": [],
   "source": [
    "from textblob import TextBlob"
   ]
  },
  {
   "cell_type": "code",
   "execution_count": 10,
   "metadata": {
    "collapsed": false
   },
   "outputs": [
    {
     "data": {
      "text/plain": [
       "Sentiment(polarity=0.0, subjectivity=0.0)"
      ]
     },
     "execution_count": 10,
     "metadata": {},
     "output_type": "execute_result"
    }
   ],
   "source": [
    "TextBlob(df['text'][0]).sentiment"
   ]
  },
  {
   "cell_type": "code",
   "execution_count": 14,
   "metadata": {
    "collapsed": false
   },
   "outputs": [
    {
     "data": {
      "text/plain": [
       "2491"
      ]
     },
     "execution_count": 14,
     "metadata": {},
     "output_type": "execute_result"
    }
   ],
   "source": [
    "len(df)"
   ]
  },
  {
   "cell_type": "code",
   "execution_count": 16,
   "metadata": {
    "collapsed": true
   },
   "outputs": [],
   "source": [
    "def sentimsent_analysis(text):\n",
    "    return TextBlob(text).sentiment"
   ]
  },
  {
   "cell_type": "code",
   "execution_count": 33,
   "metadata": {
    "collapsed": false
   },
   "outputs": [
    {
     "name": "stdout",
     "output_type": "stream",
     "text": [
      "Spending some time with the young professionals of Miami supporting their school board member who will… http://t.co/IJ3lz8hHd8\n"
     ]
    },
    {
     "data": {
      "text/plain": [
       "Sentiment(polarity=0.175, subjectivity=0.325)"
      ]
     },
     "execution_count": 33,
     "metadata": {},
     "output_type": "execute_result"
    }
   ],
   "source": [
    "print df['text'][90]\n",
    "sentiment_analysis(df['text'][90])"
   ]
  },
  {
   "cell_type": "code",
   "execution_count": 34,
   "metadata": {
    "collapsed": false
   },
   "outputs": [
    {
     "name": "stdout",
     "output_type": "stream",
     "text": [
      "Getting the party started for our new Illinois Governor @brucerauner 's Inauguration with my good… http://t.co/HSUzJm5Dzk\n"
     ]
    },
    {
     "data": {
      "text/plain": [
       "Sentiment(polarity=0.13636363636363635, subjectivity=0.45454545454545453)"
      ]
     },
     "execution_count": 34,
     "metadata": {},
     "output_type": "execute_result"
    }
   ],
   "source": [
    "print df['text'][32]\n",
    "sentiment_analysis(df['text'][32])"
   ]
  },
  {
   "cell_type": "code",
   "execution_count": 35,
   "metadata": {
    "collapsed": false
   },
   "outputs": [
    {
     "name": "stdout",
     "output_type": "stream",
     "text": [
      "The path.     #PrayForWashington http://t.co/WSjPbjuU0p\n"
     ]
    },
    {
     "data": {
      "text/plain": [
       "Sentiment(polarity=0.0, subjectivity=0.0)"
      ]
     },
     "execution_count": 35,
     "metadata": {},
     "output_type": "execute_result"
    }
   ],
   "source": [
    "print df['text'][282]\n",
    "sentiment_analysis(df['text'][282])"
   ]
  },
  {
   "cell_type": "code",
   "execution_count": 30,
   "metadata": {
    "collapsed": false
   },
   "outputs": [
    {
     "data": {
      "text/plain": [
       "Sentiment(polarity=0.0, subjectivity=0.0)"
      ]
     },
     "execution_count": 30,
     "metadata": {},
     "output_type": "execute_result"
    }
   ],
   "source": [
    "print df['text']\n",
    "sentiment_analysis(df['text'][728])"
   ]
  },
  {
   "cell_type": "code",
   "execution_count": 42,
   "metadata": {
    "collapsed": false
   },
   "outputs": [],
   "source": [
    "import sentlex"
   ]
  },
  {
   "cell_type": "code",
   "execution_count": 43,
   "metadata": {
    "collapsed": true
   },
   "outputs": [],
   "source": [
    "import sentlex.sentanalysis"
   ]
  },
  {
   "cell_type": "code",
   "execution_count": 44,
   "metadata": {
    "collapsed": true
   },
   "outputs": [],
   "source": [
    "def sentlex_analysis(text):\n",
    "    SWN = sentlex.SWN3Lexicon()\n",
    "    classifier = sentlex.sentanalysis.BasicDocSentiScore()\n",
    "    classifier.classify_document(text, tagged=False, L=SWN, a=True, v=True, n=False, r=False, negation=False, verbose=False)\n",
    "    return classifier.resultdata"
   ]
  },
  {
   "cell_type": "code",
   "execution_count": 45,
   "metadata": {
    "collapsed": false
   },
   "outputs": [
    {
     "data": {
      "text/plain": [
       "{'annotated_doc': '',\n",
       " 'doc': u'Expanding a program we started 3 years ago.  https://t.co/PIWBzkJ10m  Join by visiting https://t.co/3xnfh18xBl https://t.co/4WTxlLH1oU',\n",
       " 'found_list': Counter({u'//t.co/3xnfh18xBl/JJ': 1,\n",
       "          u'Expanding/VBG': 1,\n",
       "          u'started/VBD': 1,\n",
       "          u'visiting/VBG': 1}),\n",
       " 'resultneg': 0.09970238095238095,\n",
       " 'resultpos': 0.0818452380952381,\n",
       " 'tokens_found': 4,\n",
       " 'tokens_negated': 0,\n",
       " 'unscored_list': []}"
      ]
     },
     "execution_count": 45,
     "metadata": {},
     "output_type": "execute_result"
    }
   ],
   "source": [
    "sentlex_analysis(df['text'][0])"
   ]
  },
  {
   "cell_type": "code",
   "execution_count": 46,
   "metadata": {
    "collapsed": false
   },
   "outputs": [
    {
     "name": "stdout",
     "output_type": "stream",
     "text": [
      "Spending some time with the young professionals of Miami supporting their school board member who will… http://t.co/IJ3lz8hHd8\n"
     ]
    },
    {
     "data": {
      "text/plain": [
       "{'annotated_doc': '',\n",
       " 'doc': u'Spending some time with the young professionals of Miami supporting their school board member who will\\u2026 http://t.co/IJ3lz8hHd8',\n",
       " 'found_list': Counter({u'Spending/VBG': 1,\n",
       "          u'supporting/VBG': 1,\n",
       "          u'will\\u2026/VBZ': 1,\n",
       "          u'young/JJ': 1}),\n",
       " 'resultneg': 0.08636363636363636,\n",
       " 'resultpos': 0.28181818181818186,\n",
       " 'tokens_found': 4,\n",
       " 'tokens_negated': 0,\n",
       " 'unscored_list': []}"
      ]
     },
     "execution_count": 46,
     "metadata": {},
     "output_type": "execute_result"
    }
   ],
   "source": [
    "print df['text'][90]\n",
    "sentlex_analysis(df['text'][90])"
   ]
  },
  {
   "cell_type": "code",
   "execution_count": 47,
   "metadata": {
    "collapsed": false
   },
   "outputs": [
    {
     "data": {
      "text/plain": [
       "{'annotated_doc': '',\n",
       " 'doc': u\"Getting the party started for our new Illinois Governor @brucerauner 's Inauguration with my good\\u2026 http://t.co/HSUzJm5Dzk\",\n",
       " 'found_list': Counter({u'Getting/VBG': 1, u'new/JJ': 1, u'started/VBD': 1}),\n",
       " 'resultneg': 0.08763979076479075,\n",
       " 'resultpos': 0.09528318903318903,\n",
       " 'tokens_found': 3,\n",
       " 'tokens_negated': 0,\n",
       " 'unscored_list': []}"
      ]
     },
     "execution_count": 47,
     "metadata": {},
     "output_type": "execute_result"
    }
   ],
   "source": [
    "sentlex_analysis(df['text'][32])"
   ]
  },
  {
   "cell_type": "code",
   "execution_count": 48,
   "metadata": {
    "collapsed": false
   },
   "outputs": [
    {
     "data": {
      "text/plain": [
       "{'annotated_doc': '',\n",
       " 'doc': u'The path.     #PrayForWashington http://t.co/WSjPbjuU0p',\n",
       " 'found_list': Counter(),\n",
       " 'resultneg': 0.0,\n",
       " 'resultpos': 0.0,\n",
       " 'tokens_found': 0,\n",
       " 'tokens_negated': 0,\n",
       " 'unscored_list': []}"
      ]
     },
     "execution_count": 48,
     "metadata": {},
     "output_type": "execute_result"
    }
   ],
   "source": [
    "sentlex_analysis(df['text'][282])"
   ]
  },
  {
   "cell_type": "code",
   "execution_count": 49,
   "metadata": {
    "collapsed": false
   },
   "outputs": [
    {
     "data": {
      "text/plain": [
       "{'annotated_doc': '',\n",
       " 'doc': u\"RT @CityoBeardstown: On Thursday, April 25, 2013 at 9:45 a.m. the Illinois River at Beardstown was 29.72'. Predicted crest: 29.9'. \\n\\nhttp:/\\u2026\",\n",
       " 'found_list': Counter({u'Predicted/VBN': 1, u'was/VBD': 1}),\n",
       " 'resultneg': 0.0,\n",
       " 'resultpos': 0.028846153846153848,\n",
       " 'tokens_found': 2,\n",
       " 'tokens_negated': 0,\n",
       " 'unscored_list': []}"
      ]
     },
     "execution_count": 49,
     "metadata": {},
     "output_type": "execute_result"
    }
   ],
   "source": [
    "sentlex_analysis(df['text'][728])"
   ]
  },
  {
   "cell_type": "code",
   "execution_count": null,
   "metadata": {
    "collapsed": true
   },
   "outputs": [],
   "source": []
  }
 ],
 "metadata": {
  "kernelspec": {
   "display_name": "Python 2",
   "language": "python",
   "name": "python2"
  },
  "language_info": {
   "codemirror_mode": {
    "name": "ipython",
    "version": 2
   },
   "file_extension": ".py",
   "mimetype": "text/x-python",
   "name": "python",
   "nbconvert_exporter": "python",
   "pygments_lexer": "ipython2",
   "version": "2.7.12"
  }
 },
 "nbformat": 4,
 "nbformat_minor": 0
}
