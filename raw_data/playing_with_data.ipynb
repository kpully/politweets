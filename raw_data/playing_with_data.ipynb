{
 "cells": [
  {
   "cell_type": "code",
   "execution_count": 2,
   "metadata": {
    "collapsed": true
   },
   "outputs": [],
   "source": [
    "import pandas as pd\n",
    "import matplotlib.pyplot as plt"
   ]
  },
  {
   "cell_type": "code",
   "execution_count": 7,
   "metadata": {
    "collapsed": false
   },
   "outputs": [
    {
     "data": {
      "text/html": [
       "<div>\n",
       "<table border=\"1\" class=\"dataframe\">\n",
       "  <thead>\n",
       "    <tr style=\"text-align: right;\">\n",
       "      <th></th>\n",
       "      <th>id</th>\n",
       "      <th>created_at</th>\n",
       "      <th>coordinates</th>\n",
       "      <th>retweets</th>\n",
       "      <th>favorite_count</th>\n",
       "      <th>source</th>\n",
       "      <th>text</th>\n",
       "    </tr>\n",
       "  </thead>\n",
       "  <tbody>\n",
       "    <tr>\n",
       "      <th>0</th>\n",
       "      <td>788366643122536449</td>\n",
       "      <td>2016-10-18 13:10:29</td>\n",
       "      <td>NaN</td>\n",
       "      <td>9</td>\n",
       "      <td>55</td>\n",
       "      <td>Twitter for iPhone</td>\n",
       "      <td>Expanding a program we started 3 years ago.  h...</td>\n",
       "    </tr>\n",
       "    <tr>\n",
       "      <th>1</th>\n",
       "      <td>684034729809608705</td>\n",
       "      <td>2016-01-04 15:32:42</td>\n",
       "      <td>NaN</td>\n",
       "      <td>27</td>\n",
       "      <td>75</td>\n",
       "      <td>Twitter for iPhone</td>\n",
       "      <td>More press not doing hmwrk:office painted befo...</td>\n",
       "    </tr>\n",
       "    <tr>\n",
       "      <th>2</th>\n",
       "      <td>594130655820312576</td>\n",
       "      <td>2015-05-01 13:26:01</td>\n",
       "      <td>NaN</td>\n",
       "      <td>57</td>\n",
       "      <td>172</td>\n",
       "      <td>Twitter for iPhone</td>\n",
       "      <td>Glad to know one reporter does her homework......</td>\n",
       "    </tr>\n",
       "    <tr>\n",
       "      <th>3</th>\n",
       "      <td>577095893209460736</td>\n",
       "      <td>2015-03-15 13:15:57</td>\n",
       "      <td>{u'type': u'Point', u'coordinates': [-89.59349...</td>\n",
       "      <td>24</td>\n",
       "      <td>68</td>\n",
       "      <td>Twitter for iPhone</td>\n",
       "      <td>working chow line @ILFarmBureau Farmer's Share...</td>\n",
       "    </tr>\n",
       "    <tr>\n",
       "      <th>4</th>\n",
       "      <td>576816601690935297</td>\n",
       "      <td>2015-03-14 18:46:09</td>\n",
       "      <td>{u'type': u'Point', u'coordinates': [-89.67643...</td>\n",
       "      <td>12</td>\n",
       "      <td>32</td>\n",
       "      <td>Twitter for iPhone</td>\n",
       "      <td>In Jacksonville for Rotary w/my friend Dick Jo...</td>\n",
       "    </tr>\n",
       "  </tbody>\n",
       "</table>\n",
       "</div>"
      ],
      "text/plain": [
       "                   id           created_at  \\\n",
       "0  788366643122536449  2016-10-18 13:10:29   \n",
       "1  684034729809608705  2016-01-04 15:32:42   \n",
       "2  594130655820312576  2015-05-01 13:26:01   \n",
       "3  577095893209460736  2015-03-15 13:15:57   \n",
       "4  576816601690935297  2015-03-14 18:46:09   \n",
       "\n",
       "                                         coordinates  retweets  \\\n",
       "0                                                NaN         9   \n",
       "1                                                NaN        27   \n",
       "2                                                NaN        57   \n",
       "3  {u'type': u'Point', u'coordinates': [-89.59349...        24   \n",
       "4  {u'type': u'Point', u'coordinates': [-89.67643...        12   \n",
       "\n",
       "   favorite_count              source  \\\n",
       "0              55  Twitter for iPhone   \n",
       "1              75  Twitter for iPhone   \n",
       "2             172  Twitter for iPhone   \n",
       "3              68  Twitter for iPhone   \n",
       "4              32  Twitter for iPhone   \n",
       "\n",
       "                                                text  \n",
       "0  Expanding a program we started 3 years ago.  h...  \n",
       "1  More press not doing hmwrk:office painted befo...  \n",
       "2  Glad to know one reporter does her homework......  \n",
       "3  working chow line @ILFarmBureau Farmer's Share...  \n",
       "4  In Jacksonville for Rotary w/my friend Dick Jo...  "
      ]
     },
     "execution_count": 7,
     "metadata": {},
     "output_type": "execute_result"
    }
   ],
   "source": [
    "df = pd.read_csv('aaronschock_tweets.csv', encoding='utf-8')\n",
    "df.head()"
   ]
  },
  {
   "cell_type": "code",
   "execution_count": 8,
   "metadata": {
    "collapsed": false
   },
   "outputs": [
    {
     "name": "stdout",
     "output_type": "stream",
     "text": [
      "[u'Expanding a program we started 3 years ago.', u'https://t.co/PIWBzkJ10m  Join by visiting https://t.co/3xnfh18xBl https://t.co/4WTxlLH1oU']\n"
     ]
    }
   ],
   "source": [
    "from nltk.tokenize import sent_tokenize\n",
    "\n",
    "sentences = [sent_tokenize(x) for x in df['text']]\n",
    "print sentences[0]"
   ]
  },
  {
   "cell_type": "code",
   "execution_count": 9,
   "metadata": {
    "collapsed": true
   },
   "outputs": [],
   "source": [
    "from textblob import TextBlob"
   ]
  },
  {
   "cell_type": "code",
   "execution_count": 10,
   "metadata": {
    "collapsed": false
   },
   "outputs": [
    {
     "data": {
      "text/plain": [
       "Sentiment(polarity=0.0, subjectivity=0.0)"
      ]
     },
     "execution_count": 10,
     "metadata": {},
     "output_type": "execute_result"
    }
   ],
   "source": [
    "TextBlob(df['text'][0]).sentiment"
   ]
  },
  {
   "cell_type": "code",
   "execution_count": 14,
   "metadata": {
    "collapsed": false
   },
   "outputs": [
    {
     "data": {
      "text/plain": [
       "2491"
      ]
     },
     "execution_count": 14,
     "metadata": {},
     "output_type": "execute_result"
    }
   ],
   "source": [
    "len(df)"
   ]
  },
  {
   "cell_type": "code",
   "execution_count": 16,
   "metadata": {
    "collapsed": true
   },
   "outputs": [],
   "source": [
    "def sentimsent_analysis(text):\n",
    "    return TextBlob(text).sentiment"
   ]
  },
  {
   "cell_type": "code",
   "execution_count": 33,
   "metadata": {
    "collapsed": false
   },
   "outputs": [
    {
     "name": "stdout",
     "output_type": "stream",
     "text": [
      "Spending some time with the young professionals of Miami supporting their school board member who will… http://t.co/IJ3lz8hHd8\n"
     ]
    },
    {
     "data": {
      "text/plain": [
       "Sentiment(polarity=0.175, subjectivity=0.325)"
      ]
     },
     "execution_count": 33,
     "metadata": {},
     "output_type": "execute_result"
    }
   ],
   "source": [
    "print df['text'][90]\n",
    "sentiment_analysis(df['text'][90])"
   ]
  },
  {
   "cell_type": "code",
   "execution_count": 34,
   "metadata": {
    "collapsed": false
   },
   "outputs": [
    {
     "name": "stdout",
     "output_type": "stream",
     "text": [
      "Getting the party started for our new Illinois Governor @brucerauner 's Inauguration with my good… http://t.co/HSUzJm5Dzk\n"
     ]
    },
    {
     "data": {
      "text/plain": [
       "Sentiment(polarity=0.13636363636363635, subjectivity=0.45454545454545453)"
      ]
     },
     "execution_count": 34,
     "metadata": {},
     "output_type": "execute_result"
    }
   ],
   "source": [
    "print df['text'][32]\n",
    "sentiment_analysis(df['text'][32])"
   ]
  },
  {
   "cell_type": "code",
   "execution_count": 35,
   "metadata": {
    "collapsed": false
   },
   "outputs": [
    {
     "name": "stdout",
     "output_type": "stream",
     "text": [
      "The path.     #PrayForWashington http://t.co/WSjPbjuU0p\n"
     ]
    },
    {
     "data": {
      "text/plain": [
       "Sentiment(polarity=0.0, subjectivity=0.0)"
      ]
     },
     "execution_count": 35,
     "metadata": {},
     "output_type": "execute_result"
    }
   ],
   "source": [
    "print df['text'][282]\n",
    "sentiment_analysis(df['text'][282])"
   ]
  },
  {
   "cell_type": "code",
   "execution_count": 30,
   "metadata": {
    "collapsed": false
   },
   "outputs": [
    {
     "data": {
      "text/plain": [
       "Sentiment(polarity=0.0, subjectivity=0.0)"
      ]
     },
     "execution_count": 30,
     "metadata": {},
     "output_type": "execute_result"
    }
   ],
   "source": [
    "print df['text']\n",
    "sentiment_analysis(df['text'][728])"
   ]
  },
  {
   "cell_type": "code",
   "execution_count": 42,
   "metadata": {
    "collapsed": false
   },
   "outputs": [],
   "source": [
    "import sentlex"
   ]
  },
  {
   "cell_type": "code",
   "execution_count": 43,
   "metadata": {
    "collapsed": true
   },
   "outputs": [],
   "source": [
    "import sentlex.sentanalysis"
   ]
  },
  {
   "cell_type": "code",
   "execution_count": 44,
   "metadata": {
    "collapsed": true
   },
   "outputs": [],
   "source": [
    "def sentlex_analysis(text):\n",
    "    SWN = sentlex.SWN3Lexicon()\n",
    "    classifier = sentlex.sentanalysis.BasicDocSentiScore()\n",
    "    classifier.classify_document(text, tagged=False, L=SWN, a=True, v=True, n=False, r=False, negation=False, verbose=False)\n",
    "    return classifier.resultdata"
   ]
  },
  {
   "cell_type": "code",
   "execution_count": 45,
   "metadata": {
    "collapsed": false
   },
   "outputs": [
    {
     "data": {
      "text/plain": [
       "{'annotated_doc': '',\n",
       " 'doc': u'Expanding a program we started 3 years ago.  https://t.co/PIWBzkJ10m  Join by visiting https://t.co/3xnfh18xBl https://t.co/4WTxlLH1oU',\n",
       " 'found_list': Counter({u'//t.co/3xnfh18xBl/JJ': 1,\n",
       "          u'Expanding/VBG': 1,\n",
       "          u'started/VBD': 1,\n",
       "          u'visiting/VBG': 1}),\n",
       " 'resultneg': 0.09970238095238095,\n",
       " 'resultpos': 0.0818452380952381,\n",
       " 'tokens_found': 4,\n",
       " 'tokens_negated': 0,\n",
       " 'unscored_list': []}"
      ]
     },
     "execution_count": 45,
     "metadata": {},
     "output_type": "execute_result"
    }
   ],
   "source": [
    "sentlex_analysis(df['text'][0])"
   ]
  },
  {
   "cell_type": "code",
   "execution_count": 46,
   "metadata": {
    "collapsed": false
   },
   "outputs": [
    {
     "name": "stdout",
     "output_type": "stream",
     "text": [
      "Spending some time with the young professionals of Miami supporting their school board member who will… http://t.co/IJ3lz8hHd8\n"
     ]
    },
    {
     "data": {
      "text/plain": [
       "{'annotated_doc': '',\n",
       " 'doc': u'Spending some time with the young professionals of Miami supporting their school board member who will\\u2026 http://t.co/IJ3lz8hHd8',\n",
       " 'found_list': Counter({u'Spending/VBG': 1,\n",
       "          u'supporting/VBG': 1,\n",
       "          u'will\\u2026/VBZ': 1,\n",
       "          u'young/JJ': 1}),\n",
       " 'resultneg': 0.08636363636363636,\n",
       " 'resultpos': 0.28181818181818186,\n",
       " 'tokens_found': 4,\n",
       " 'tokens_negated': 0,\n",
       " 'unscored_list': []}"
      ]
     },
     "execution_count": 46,
     "metadata": {},
     "output_type": "execute_result"
    }
   ],
   "source": [
    "print df['text'][90]\n",
    "sentlex_analysis(df['text'][90])"
   ]
  },
  {
   "cell_type": "code",
   "execution_count": 47,
   "metadata": {
    "collapsed": false
   },
   "outputs": [
    {
     "data": {
      "text/plain": [
       "{'annotated_doc': '',\n",
       " 'doc': u\"Getting the party started for our new Illinois Governor @brucerauner 's Inauguration with my good\\u2026 http://t.co/HSUzJm5Dzk\",\n",
       " 'found_list': Counter({u'Getting/VBG': 1, u'new/JJ': 1, u'started/VBD': 1}),\n",
       " 'resultneg': 0.08763979076479075,\n",
       " 'resultpos': 0.09528318903318903,\n",
       " 'tokens_found': 3,\n",
       " 'tokens_negated': 0,\n",
       " 'unscored_list': []}"
      ]
     },
     "execution_count": 47,
     "metadata": {},
     "output_type": "execute_result"
    }
   ],
   "source": [
    "sentlex_analysis(df['text'][32])"
   ]
  },
  {
   "cell_type": "code",
   "execution_count": 48,
   "metadata": {
    "collapsed": false
   },
   "outputs": [
    {
     "data": {
      "text/plain": [
       "{'annotated_doc': '',\n",
       " 'doc': u'The path.     #PrayForWashington http://t.co/WSjPbjuU0p',\n",
       " 'found_list': Counter(),\n",
       " 'resultneg': 0.0,\n",
       " 'resultpos': 0.0,\n",
       " 'tokens_found': 0,\n",
       " 'tokens_negated': 0,\n",
       " 'unscored_list': []}"
      ]
     },
     "execution_count": 48,
     "metadata": {},
     "output_type": "execute_result"
    }
   ],
   "source": [
    "sentlex_analysis(df['text'][282])"
   ]
  },
  {
   "cell_type": "code",
   "execution_count": 49,
   "metadata": {
    "collapsed": false
   },
   "outputs": [
    {
     "data": {
      "text/plain": [
       "{'annotated_doc': '',\n",
       " 'doc': u\"RT @CityoBeardstown: On Thursday, April 25, 2013 at 9:45 a.m. the Illinois River at Beardstown was 29.72'. Predicted crest: 29.9'. \\n\\nhttp:/\\u2026\",\n",
       " 'found_list': Counter({u'Predicted/VBN': 1, u'was/VBD': 1}),\n",
       " 'resultneg': 0.0,\n",
       " 'resultpos': 0.028846153846153848,\n",
       " 'tokens_found': 2,\n",
       " 'tokens_negated': 0,\n",
       " 'unscored_list': []}"
      ]
     },
     "execution_count": 49,
     "metadata": {},
     "output_type": "execute_result"
    }
   ],
   "source": [
    "sentlex_analysis(df['text'][728])"
   ]
  },
  {
   "cell_type": "code",
   "execution_count": 50,
   "metadata": {
    "collapsed": false
   },
   "outputs": [
    {
     "name": "stdout",
     "output_type": "stream",
     "text": [
      "/Users/allison18paige/_ds/metis/git/politweets/raw_data\r\n"
     ]
    }
   ],
   "source": [
    "!pwd"
   ]
  },
  {
   "cell_type": "code",
   "execution_count": 51,
   "metadata": {
    "collapsed": true
   },
   "outputs": [],
   "source": [
    "!cd .."
   ]
  },
  {
   "cell_type": "code",
   "execution_count": 53,
   "metadata": {
    "collapsed": false
   },
   "outputs": [
    {
     "name": "stdout",
     "output_type": "stream",
     "text": [
      "AnderCrenshaw_tweets.csv   RepLoisFrankel_tweets.csv\r\n",
      "ArturDavis_tweets.csv      RepLouBarletta_tweets.csv\r\n",
      "AustinScottGA08_tweets.csv RepLoudermilk_tweets.csv\r\n",
      "BachusAL06_tweets.csv      RepLouieGohmert_tweets.csv\r\n",
      "BarbaraBoxer_tweets.csv    RepLowenthal_tweets.csv\r\n",
      "BennieGThompson_tweets.csv RepLujanGrisham_tweets.csv\r\n",
      "BettyMcCollum04_tweets.csv RepLukeMesser_tweets.csv\r\n",
      "BilbrayCA50_tweets.csv     RepLynnJenkins_tweets.csv\r\n",
      "BillCassidy_tweets.csv     RepMGriffith_tweets.csv\r\n",
      "BillPascrell_tweets.csv    RepMaloney_tweets.csv\r\n",
      "BlumenauerMedia_tweets.csv RepMarciaFudge_tweets.csv\r\n",
      "BobbyScott_tweets.csv      RepMarcyKaptur_tweets.csv\r\n",
      "BradSherman_tweets.csv     RepMarkMeadows_tweets.csv\r\n",
      "Call_Me_Dutch_tweets.csv   RepMarkPocan_tweets.csv\r\n",
      "CandiceMiller_tweets.csv   RepMarkTakano_tweets.csv\r\n",
      "ChrisMurphyCT_tweets.csv   RepMarkWalker_tweets.csv\r\n",
      "ChrisVanHollen_tweets.csv  RepMarthaRoby_tweets.csv\r\n",
      "ChuckGrassley_tweets.csv   RepMaryFallin_tweets.csv\r\n",
      "Clyburn_tweets.csv         RepMcCaul_tweets.csv\r\n",
      "ConawayTX11_tweets.csv     RepMcClintock_tweets.csv\r\n",
      "CongCulberson_tweets.csv   RepMcGovern_tweets.csv\r\n",
      "CongJoeWilson_tweets.csv   RepMcKinley_tweets.csv\r\n",
      "CongMikeSimpson_tweets.csv RepMcNerney_tweets.csv\r\n",
      "CongPalazzo_tweets.csv     RepMcSally_tweets.csv\r\n",
      "CongressTwitterHandles.csv RepMeehan_tweets.csv\r\n",
      "CongressmanGT_tweets.csv   RepMickMulvaney_tweets.csv\r\n",
      "CongressmanRuiz_tweets.csv RepMikeBishop_tweets.csv\r\n",
      "ConnieMackIV_tweets.csv    RepMikeCapuano_tweets.csv\r\n",
      "CoryBooker_tweets.csv      RepMikeCoffman_tweets.csv\r\n",
      "CynthiaLummis_tweets.csv   RepMikeHonda_tweets.csv\r\n",
      "DanaRohrabacher_tweets.csv RepMikePompeo_tweets.csv\r\n",
      "DarrellIssa_tweets.csv     RepMikeQuigley_tweets.csv\r\n",
      "DaveLoebsack_tweets.csv    RepMikeRogersAL_tweets.csv\r\n",
      "DavidVitter_tweets.csv     RepMikeTurner_tweets.csv\r\n",
      "DeanHeller_tweets.csv      RepMimiWalters_tweets.csv\r\n",
      "Dennis_Kucinich_tweets.csv RepMoBrooks_tweets.csv\r\n",
      "DesJarlaisTN04_tweets.csv  RepMoolenaar_tweets.csv\r\n",
      "DonaldNorcross_tweets.csv  RepMullin_tweets.csv\r\n",
      "DorisMatsui_tweets.csv     RepNewhouse_tweets.csv\r\n",
      "DrPhilGingrey_tweets.csv   RepPaulCook_tweets.csv\r\n",
      "DrPhilRoe_tweets.csv       RepPaulTonko_tweets.csv\r\n",
      "EleanorNorton_tweets.csv   RepPerlmutter_tweets.csv\r\n",
      "Farenthold_tweets.csv      RepPeteKing_tweets.csv\r\n",
      "FrankPallone_tweets.csv    RepPeteOlson_tweets.csv\r\n",
      "GKButterfield_tweets.csv   RepPeterDeFazio_tweets.csv\r\n",
      "GOPLeader_tweets.csv       RepPittenger_tweets.csv\r\n",
      "GabbyGiffords_tweets.csv   RepPoliquin_tweets.csv\r\n",
      "GerryConnolly_tweets.csv   RepRWilliams_tweets.csv\r\n",
      "GlennNye_tweets.csv        RepRatcliffe_tweets.csv\r\n",
      "GovPenceIN_tweets.csv      RepRichHudson_tweets.csv\r\n",
      "GraceNapolitano_tweets.csv RepRichardNeal_tweets.csv\r\n",
      "GrahamBlog_tweets.csv      RepRichmond_tweets.csv\r\n",
      "GreggHarper_tweets.csv     RepRickCrawford_tweets.csv\r\n",
      "GregoryMeeks_tweets.csv    RepRickLarsen_tweets.csv\r\n",
      "HarryEMitchell_tweets.csv  RepRobWoodall_tweets.csv\r\n",
      "HerreraBeutler_tweets.csv  RepRobinKelly_tweets.csv\r\n",
      "InhofePress_tweets.csv     RepRodBlum_tweets.csv\r\n",
      "JackKingston_tweets.csv    RepRonKind_tweets.csv\r\n",
      "JacksonLeeTX18_tweets.csv  RepRonPaul_tweets.csv\r\n",
      "JanSchakowsky_tweets.csv   RepRoybalAllard_tweets.csv\r\n",
      "JeffFlake_tweets.csv       RepRubenGallego_tweets.csv\r\n",
      "JeffFortenberry_tweets.csv RepRussell_tweets.csv\r\n",
      "JerryMoran_tweets.csv      RepRyanCostello_tweets.csv\r\n",
      "JimDeMint_tweets.csv       RepRyanZinke_tweets.csv\r\n",
      "JimLangevin_tweets.csv     RepSamGraves_tweets.csv\r\n",
      "JimOberstar_tweets.csv     RepSandyLevin_tweets.csv\r\n",
      "JimPressOffice_tweets.csv  RepSanfordSC_tweets.csv\r\n",
      "Jim_Jordan_tweets.csv      RepSarbanes_tweets.csv\r\n",
      "Jim_Moran_tweets.csv       RepSchrader_tweets.csv\r\n",
      "JoaquinCastrotx_tweets.csv RepScottPerry_tweets.csv\r\n",
      "JoeLieberman_tweets.csv    RepScottPeters_tweets.csv\r\n",
      "JohnBarrowGA_tweets.csv    RepSeanDuffy_tweets.csv\r\n",
      "JohnBoozman_tweets.csv     RepSeanMaloney_tweets.csv\r\n",
      "JohnCornyn_tweets.csv      RepShimkus_tweets.csv\r\n",
      "JohnEnsign_tweets.csv      RepSinema_tweets.csv\r\n",
      "JohnKerry_tweets.csv       RepSires_tweets.csv\r\n",
      "JudgeCarter_tweets.csv     RepSpeier_tweets.csv\r\n",
      "JudgeTedPoe_tweets.csv     RepStefanik_tweets.csv\r\n",
      "JudyBiggert_tweets.csv     RepStephenLynch_tweets.csv\r\n",
      "JuliaBrownley26_tweets.csv RepSteveChabot_tweets.csv\r\n",
      "KeithRothfus_tweets.csv    RepSteveIsrael_tweets.csv\r\n",
      "KenCalvert_tweets.csv      RepStevePearce_tweets.csv\r\n",
      "LEETERRYNE_tweets.csv      RepSteveStivers_tweets.csv\r\n",
      "LamarSmithTX21_tweets.csv  RepSusanDavis_tweets.csv\r\n",
      "LeonardBoswell_tweets.csv  RepSwalwell_tweets.csv\r\n",
      "LouiseSlaughter_tweets.csv RepTedDeutch_tweets.csv\r\n",
      "LuisGutierrez_tweets.csv   RepTedLieu_tweets.csv\r\n",
      "MacTXPress_tweets.csv      RepTedYoho_tweets.csv\r\n",
      "MarioDB_tweets.csv         RepTerriSewell_tweets.csv\r\n",
      "MarkAmodeiNV2_tweets.csv   RepThomasMassie_tweets.csv\r\n",
      "MarkUdall_tweets.csv       RepThompson_tweets.csv\r\n",
      "MarkWarner_tweets.csv      RepTimMurphy_tweets.csv\r\n",
      "MarshaBlackburn_tweets.csv RepTimRyan_tweets.csv\r\n",
      "MartinHeinrich_tweets.csv  RepTimWalz_tweets.csv\r\n",
      "MaryBonoUSA_tweets.csv     RepTipton_tweets.csv\r\n",
      "MaxineWaters_tweets.csv    RepTomEmmer_tweets.csv\r\n",
      "MazieHirono_tweets.csv     RepTomGraves_tweets.csv\r\n",
      "McCaskillOffice_tweets.csv RepTomMacArthur_tweets.csv\r\n",
      "McConnellPress_tweets.csv  RepTomMarino_tweets.csv\r\n",
      "MicheleBachmann_tweets.csv RepTomPrice_tweets.csv\r\n",
      "MikeCrapo_tweets.csv       RepTomReed_tweets.csv\r\n",
      "MikeHMichaud_tweets.csv    RepTomRice_tweets.csv\r\n",
      "MikeKellyPA_tweets.csv     RepTrentFranks_tweets.csv\r\n",
      "NancyPelosi_tweets.csv     RepVeasey_tweets.csv\r\n",
      "NikiInTheHouse_tweets.csv  RepVisclosky_tweets.csv\r\n",
      "NitaLowey_tweets.csv       RepWalberg_tweets.csv\r\n",
      "NormaJTorres_tweets.csv    RepWalorski_tweets.csv\r\n",
      "NydiaVelazquez_tweets.csv  RepWalterJones_tweets.csv\r\n",
      "OrrinHatch_tweets.csv      RepWebster_tweets.csv\r\n",
      "PatrickMcHenry_tweets.csv  RepWesterman_tweets.csv\r\n",
      "PattyMurray_tweets.csv     RepWilson_tweets.csv\r\n",
      "PaulBrounMD_tweets.csv     RepZoeLofgren_tweets.csv\r\n",
      "PeteOlson_tweets.csv       Rep_DevinNunes_tweets.csv\r\n",
      "PeteSessions_tweets.csv    Rep_Hunter_tweets.csv\r\n",
      "PeterRoskam_tweets.csv     Rep_SteveWomack_tweets.csv\r\n",
      "PeterWelch_tweets.csv      RepraulGrijalva_tweets.csv\r\n",
      "RandyNeugebauer_tweets.csv RestoreAccount_tweets.csv\r\n",
      "Randy_Forbes_tweets.csv    RobWittman_tweets.csv\r\n",
      "Raul_Labrador_tweets.csv   Robert_Aderholt_tweets.csv\r\n",
      "RepAbraham_tweets.csv      RodneyDavis_tweets.csv\r\n",
      "RepAdamSchiff_tweets.csv   RogerWicker_tweets.csv\r\n",
      "RepAdamSmith_tweets.csv    RonWyden_tweets.csv\r\n",
      "RepAdams_tweets.csv        RosLehtinen_tweets.csv\r\n",
      "RepAdrianSmith_tweets.csv  RosaDeLauro_tweets.csv\r\n",
      "RepAlGreen_tweets.csv      RoyBlunt_tweets.csv\r\n",
      "RepAlexMooney_tweets.csv   SamsPressShop_tweets.csv\r\n",
      "RepAmata_tweets.csv        SanfordBishop_tweets.csv\r\n",
      "RepAndreCarson_tweets.csv  SenAlexander_tweets.csv\r\n",
      "RepAndyBarr_tweets.csv     SenAngusKing_tweets.csv\r\n",
      "RepAndyHarrisMD_tweets.csv SenArlenSpecter_tweets.csv\r\n",
      "RepAnnWagner_tweets.csv    SenBennetCo_tweets.csv\r\n",
      "RepAnnaEshoo_tweets.csv    SenBillNelson_tweets.csv\r\n",
      "RepAnnieKuster_tweets.csv  SenBlumenthal_tweets.csv\r\n",
      "RepBarbaraLee_tweets.csv   SenBobCasey_tweets.csv\r\n",
      "RepBarrett_tweets.csv      SenBobCorker_tweets.csv\r\n",
      "RepBeatty_tweets.csv       SenBrianSchatz_tweets.csv\r\n",
      "RepBecerra_tweets.csv      SenCapito_tweets.csv\r\n",
      "RepBera_tweets.csv         SenChrisDodd_tweets.csv\r\n",
      "RepBetoORourke_tweets.csv  SenCoonsOffice_tweets.csv\r\n",
      "RepBillFlores_tweets.csv   SenCoryGardner_tweets.csv\r\n",
      "RepBillFoster_tweets.csv   SenDanSullivan_tweets.csv\r\n",
      "RepBillJohnson_tweets.csv  SenDeanHeller_tweets.csv\r\n",
      "RepBillShuster_tweets.csv  SenDonnelly_tweets.csv\r\n",
      "RepBlainePress_tweets.csv  SenFeinstein_tweets.csv\r\n",
      "RepBobGibbs_tweets.csv     SenFranken_tweets.csv\r\n",
      "RepBobbyRush_tweets.csv    SenGaryPeters_tweets.csv\r\n",
      "RepBonamici_tweets.csv     SenGillibrand_tweets.csv\r\n",
      "RepBonnie_tweets.csv       SenJackReed_tweets.csv\r\n",
      "RepBost_tweets.csv         SenJeffMerkley_tweets.csv\r\n",
      "RepBradWenstrup_tweets.csv SenJohnBarrasso_tweets.csv\r\n",
      "RepBrady_tweets.csv        SenJohnHoeven_tweets.csv\r\n",
      "RepBrendanBoyle_tweets.csv SenJohnMcCain_tweets.csv\r\n",
      "RepBrianBabin_tweets.csv   SenJohnThune_tweets.csv\r\n",
      "RepBrianHiggins_tweets.csv SenJoniErnst_tweets.csv\r\n",
      "RepBuddyCarter_tweets.csv  SenKaineOffice_tweets.csv\r\n",
      "RepByrne_tweets.csv        SenMarkey_tweets.csv\r\n",
      "RepCardenas_tweets.csv     SenMikeLee_tweets.csv\r\n",
      "RepCartwright_tweets.csv   SenOrrinHatch_tweets.csv\r\n",
      "RepCheri_tweets.csv        SenPatRoberts_tweets.csv\r\n",
      "RepChrisCollins_tweets.csv SenRobPortman_tweets.csv\r\n",
      "RepChrisSmith_tweets.csv   SenRonJohnson_tweets.csv\r\n",
      "RepChrisStewart_tweets.csv SenRubioPress_tweets.csv\r\n",
      "RepChuck_tweets.csv        SenSanders_tweets.csv\r\n",
      "RepCicilline_tweets.csv    SenSasse_tweets.csv\r\n",
      "RepCleaver_tweets.csv      SenSchumer_tweets.csv\r\n",
      "RepCliffStearns_tweets.csv SenShelby_tweets.csv\r\n",
      "RepCohen_tweets.csv        SenSherrodBrown_tweets.csv\r\n",
      "RepComstock_tweets.csv     SenStabenow_tweets.csv\r\n",
      "RepCuellar_tweets.csv      SenTedCruz_tweets.csv\r\n",
      "RepCummings_tweets.csv     SenThadCochran_tweets.csv\r\n",
      "RepCurbelo_tweets.csv      SenTomCotton_tweets.csv\r\n",
      "RepDLamborn_tweets.csv     SenToomey_tweets.csv\r\n",
      "RepDWStweets_tweets.csv    SenWarren_tweets.csv\r\n",
      "RepDanDonovan_tweets.csv   SenWhitehouse_tweets.csv\r\n",
      "RepDanKildee_tweets.csv    Sen_JoeManchin_tweets.csv\r\n",
      "RepDannyDavis_tweets.csv   SenatorBaldwin_tweets.csv\r\n",
      "RepDaveBrat_tweets.csv     SenatorBurr_tweets.csv\r\n",
      "RepDaveJoyce_tweets.csv    SenatorCantwell_tweets.csv\r\n",
      "RepDavidEPrice_tweets.csv  SenatorCardin_tweets.csv\r\n",
      "RepDavidRouzer_tweets.csv  SenatorCarper_tweets.csv\r\n",
      "RepDavidScott_tweets.csv   SenatorCollins_tweets.csv\r\n",
      "RepDavidValadao_tweets.csv SenatorDurbin_tweets.csv\r\n",
      "RepDavidYoung_tweets.csv   SenatorEnzi_tweets.csv\r\n",
      "RepDavid_tweets.csv        SenatorFischer_tweets.csv\r\n",
      "RepDeSantis_tweets.csv     SenatorHeitkamp_tweets.csv\r\n",
      "RepDeSaulnier_tweets.csv   SenatorIsakson_tweets.csv\r\n",
      "RepDebDingell_tweets.csv   SenatorLankford_tweets.csv\r\n",
      "RepDelBene_tweets.csv      SenatorLeahy_tweets.csv\r\n",
      "RepDennisRoss_tweets.csv   SenatorMenendez_tweets.csv\r\n",
      "RepDennyHeck_tweets.csv    SenatorReid_tweets.csv\r\n",
      "RepDerekKilmer_tweets.csv  SenatorRisch_tweets.csv\r\n",
      "RepDianaDeGette_tweets.csv SenatorRounds_tweets.csv\r\n",
      "RepDianeBlack_tweets.csv   SenatorSessions_tweets.csv\r\n",
      "RepDinaTitus_tweets.csv    SenatorShaheen_tweets.csv\r\n",
      "RepDonaldPayne_tweets.csv  SenatorTester_tweets.csv\r\n",
      "RepDougCollins_tweets.csv  SenatorTimScott_tweets.csv\r\n",
      "RepEBJ_tweets.csv          SenatorTomUdall_tweets.csv\r\n",
      "RepEdRoyce_tweets.csv      SenatorWicker_tweets.csv\r\n",
      "RepEliotEngel_tweets.csv   SpeakerBoehner_tweets.csv\r\n",
      "RepErikPaulsen_tweets.csv  SpeakerRyan_tweets.csv\r\n",
      "RepEsty_tweets.csv         SteveAustria_tweets.csv\r\n",
      "RepEvanJenkins_tweets.csv  SteveDaines_tweets.csv\r\n",
      "RepFilemonVela_tweets.csv  SteveKingIA_tweets.csv\r\n",
      "RepFrankLucas_tweets.csv   SteveKnight25_tweets.csv\r\n",
      "RepFredUpton_tweets.csv    SteveScalise_tweets.csv\r\n",
      "RepFrenchHill_tweets.csv   SusanWBrooks_tweets.csv\r\n",
      "RepGaramendi_tweets.csv    TGowdySC_tweets.csv\r\n",
      "RepGarretGraves_tweets.csv TXRandy14_tweets.csv\r\n",
      "RepGeneGreen_tweets.csv    TeamCantor_tweets.csv\r\n",
      "RepGoodlatte_tweets.csv    ThadMcCotter_tweets.csv\r\n",
      "RepGosar_tweets.csv        TheLugarCenter_tweets.csv\r\n",
      "RepGraceMeng_tweets.csv    ToddRokita_tweets.csv\r\n",
      "RepGrothman_tweets.csv     TomColeOK04_tweets.csv\r\n",
      "RepGusBilirakis_tweets.csv TomRooney_tweets.csv\r\n",
      "RepGuthrie_tweets.csv      TulsiPress_tweets.csv\r\n",
      "RepGwenMoore_tweets.csv    USRepGaryPalmer_tweets.csv\r\n",
      "RepHalRogers_tweets.csv    USRepKCastor_tweets.csv\r\n",
      "RepHankJohnson_tweets.csv  USRepKeating_tweets.csv\r\n",
      "RepHartzler_tweets.csv     USRepLong_tweets.csv\r\n",
      "RepHastingsFL_tweets.csv   USRepMikeDoyle_tweets.csv\r\n",
      "RepHensarling_tweets.csv   USRepRickNolan_tweets.csv\r\n",
      "RepHolding_tweets.csv      USRepRodney_tweets.csv\r\n",
      "RepHuffman_tweets.csv      USRepSullivan_tweets.csv\r\n",
      "RepHuizenga_tweets.csv     VernBuchanan_tweets.csv\r\n",
      "RepHultgren_tweets.csv     VoteMarsha_tweets.csv\r\n",
      "RepJBridenstine_tweets.csv WI2Tweets_tweets.csv\r\n",
      "RepJasonSmith_tweets.csv   WhipHoyer_tweets.csv\r\n",
      "RepJeffDenham_tweets.csv   aaronschock_tweets.csv\r\n",
      "RepJeffDuncan_tweets.csv   askgeorge_tweets.csv\r\n",
      "RepJeffries_tweets.csv     bobinglis_tweets.csv\r\n",
      "RepJerryNadler_tweets.csv  boblatta_tweets.csv\r\n",
      "RepJimCooper_tweets.csv    cathymcmorris_tweets.csv\r\n",
      "RepJimCosta_tweets.csv     cbrangel_tweets.csv\r\n",
      "RepJimMatheson_tweets.csv  chelliepingree_tweets.csv\r\n",
      "RepJimRenacci_tweets.csv   clairecmc_tweets.csv\r\n",
      "RepJoeBaca_tweets.csv      congbillposey_tweets.csv\r\n",
      "RepJoeBarton_tweets.csv    congressmanhice_tweets.csv\r\n",
      "RepJoeCourtney_tweets.csv  davereichert_tweets.csv\r\n",
      "RepJoeCrowley_tweets.csv   hurdonthehill_tweets.csv\r\n",
      "RepJoeKennedy_tweets.csv   jahimes_tweets.csv\r\n",
      "RepJoeWilson_tweets.csv    jaredpolis_tweets.csv\r\n",
      "RepJohnConyers_tweets.csv  jasoninthehouse_tweets.csv\r\n",
      "RepJohnDelaney_tweets.csv  johnculberson_tweets.csv\r\n",
      "RepJohnDuncanJr_tweets.csv johnthune_tweets.csv\r\n",
      "RepJohnKatko_tweets.csv    keithellison_tweets.csv\r\n",
      "RepJohnLarson_tweets.csv   kevinomccarthy_tweets.csv\r\n",
      "RepJohnLewis_tweets.csv    lisamurkowski_tweets.csv\r\n",
      "RepJohnYarmuth_tweets.csv  michaelcburgess_tweets.csv\r\n",
      "RepJoseSerrano_tweets.csv  mlfudge_tweets.csv\r\n",
      "RepJuanVargas_tweets.csv   neilabercrombie_tweets.csv\r\n",
      "RepJudyChu_tweets.csv      petehoekstra_tweets.csv\r\n",
      "RepKClark_tweets.csv       playing_with_data.ipynb\r\n",
      "RepKarenBass_tweets.csv    readme.txt\r\n",
      "RepKathleenRice_tweets.csv repbenraylujan_tweets.csv\r\n",
      "RepKayGranger_tweets.csv   repblumenauer_tweets.csv\r\n",
      "RepKenBuck_tweets.csv      repdavetrott_tweets.csv\r\n",
      "RepKenMarchant_tweets.csv  repdonbeyer_tweets.csv\r\n",
      "RepKevinBrady_tweets.csv   repdonyoung_tweets.csv\r\n",
      "RepKevinCramer_tweets.csv  repgregwalden_tweets.csv\r\n",
      "RepKevinYoder_tweets.csv   repmialove_tweets.csv\r\n",
      "RepKinzinger_tweets.csv    reppeteaguilar_tweets.csv\r\n",
      "RepKristiNoem_tweets.csv   reprickallen_tweets.csv\r\n",
      "RepLaHood_tweets.csv       reptrentkelly_tweets.csv\r\n",
      "RepLaMalfa_tweets.csv      russfeingold_tweets.csv\r\n",
      "RepLanceNJ7_tweets.csv     sendavidperdue_tweets.csv\r\n",
      "RepLarryBucshon_tweets.csv senthomtillis_tweets.csv\r\n",
      "RepLawrence_tweets.csv     staceyplaskett_tweets.csv\r\n",
      "RepLeeZeldin_tweets.csv    teammoulton_tweets.csv\r\n",
      "RepLindaSanchez_tweets.csv tomperriello_tweets.csv\r\n",
      "RepLipinski_tweets.csv     virginiafoxx_tweets.csv\r\n",
      "RepLloydDoggett_tweets.csv zachwamp_tweets.csv\r\n",
      "RepLoBiondo_tweets.csv\r\n"
     ]
    }
   ],
   "source": [
    "!ls"
   ]
  },
  {
   "cell_type": "code",
   "execution_count": null,
   "metadata": {
    "collapsed": true
   },
   "outputs": [],
   "source": [
    "df = pd.read_csv('', encoding='utf-8')"
   ]
  }
 ],
 "metadata": {
  "kernelspec": {
   "display_name": "Python 2",
   "language": "python",
   "name": "python2"
  },
  "language_info": {
   "codemirror_mode": {
    "name": "ipython",
    "version": 2
   },
   "file_extension": ".py",
   "mimetype": "text/x-python",
   "name": "python",
   "nbconvert_exporter": "python",
   "pygments_lexer": "ipython2",
   "version": "2.7.12"
  }
 },
 "nbformat": 4,
 "nbformat_minor": 0
}
