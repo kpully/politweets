{
 "cells": [
  {
   "cell_type": "markdown",
   "metadata": {},
   "source": [
    "# Sentiment Analysis Using SentLex"
   ]
  },
  {
   "cell_type": "code",
   "execution_count": 4,
   "metadata": {
    "collapsed": true
   },
   "outputs": [],
   "source": [
    "import pandas as pd\n",
    "import sentlex\n",
    "import sentlex.sentanalysis"
   ]
  },
  {
   "cell_type": "code",
   "execution_count": 2,
   "metadata": {
    "collapsed": false
   },
   "outputs": [
    {
     "name": "stderr",
     "output_type": "stream",
     "text": [
      "/Users/allison18paige/anaconda/lib/python2.7/site-packages/IPython/core/interactiveshell.py:2723: DtypeWarning: Columns (0,1,3,4,5) have mixed types. Specify dtype option on import or set low_memory=False.\n",
      "  interactivity=interactivity, compiler=compiler, result=result)\n"
     ]
    },
    {
     "data": {
      "text/html": [
       "<div>\n",
       "<table border=\"1\" class=\"dataframe\">\n",
       "  <thead>\n",
       "    <tr style=\"text-align: right;\">\n",
       "      <th></th>\n",
       "      <th>Unnamed: 0</th>\n",
       "      <th>id</th>\n",
       "      <th>created_at</th>\n",
       "      <th>coordinates</th>\n",
       "      <th>retweets</th>\n",
       "      <th>favorite_count</th>\n",
       "      <th>source</th>\n",
       "      <th>text</th>\n",
       "      <th>twitter</th>\n",
       "      <th>last_name</th>\n",
       "      <th>first_name</th>\n",
       "      <th>birthday</th>\n",
       "      <th>gender</th>\n",
       "      <th>type</th>\n",
       "      <th>state</th>\n",
       "      <th>district</th>\n",
       "      <th>party</th>\n",
       "    </tr>\n",
       "  </thead>\n",
       "  <tbody>\n",
       "    <tr>\n",
       "      <th>0</th>\n",
       "      <td>0</td>\n",
       "      <td>774819800036040704</td>\n",
       "      <td>2016-09-11 04:00:10</td>\n",
       "      <td>NaN</td>\n",
       "      <td>3</td>\n",
       "      <td>12</td>\n",
       "      <td>Buffer</td>\n",
       "      <td>Never Forget. https://t.co/teBbRzVDv8 https://...</td>\n",
       "      <td>AnderCrenshaw</td>\n",
       "      <td>Crenshaw</td>\n",
       "      <td>Ander</td>\n",
       "      <td>9/1/44</td>\n",
       "      <td>M</td>\n",
       "      <td>rep</td>\n",
       "      <td>FL</td>\n",
       "      <td>4.0</td>\n",
       "      <td>Republican</td>\n",
       "    </tr>\n",
       "    <tr>\n",
       "      <th>1</th>\n",
       "      <td>1</td>\n",
       "      <td>771312761275953152</td>\n",
       "      <td>2016-09-01 11:44:27</td>\n",
       "      <td>NaN</td>\n",
       "      <td>5</td>\n",
       "      <td>6</td>\n",
       "      <td>Mobile Web (M5)</td>\n",
       "      <td>Keeping an eye on TS #Hermine. Latest info ava...</td>\n",
       "      <td>AnderCrenshaw</td>\n",
       "      <td>Crenshaw</td>\n",
       "      <td>Ander</td>\n",
       "      <td>9/1/44</td>\n",
       "      <td>M</td>\n",
       "      <td>rep</td>\n",
       "      <td>FL</td>\n",
       "      <td>4.0</td>\n",
       "      <td>Republican</td>\n",
       "    </tr>\n",
       "    <tr>\n",
       "      <th>2</th>\n",
       "      <td>2</td>\n",
       "      <td>769220580755304448</td>\n",
       "      <td>2016-08-26 17:10:52</td>\n",
       "      <td>NaN</td>\n",
       "      <td>1</td>\n",
       "      <td>2</td>\n",
       "      <td>Twitter Web Client</td>\n",
       "      <td>Taking a look back in #RollCall. https://t.co/...</td>\n",
       "      <td>AnderCrenshaw</td>\n",
       "      <td>Crenshaw</td>\n",
       "      <td>Ander</td>\n",
       "      <td>9/1/44</td>\n",
       "      <td>M</td>\n",
       "      <td>rep</td>\n",
       "      <td>FL</td>\n",
       "      <td>4.0</td>\n",
       "      <td>Republican</td>\n",
       "    </tr>\n",
       "    <tr>\n",
       "      <th>3</th>\n",
       "      <td>3</td>\n",
       "      <td>768469764385550336</td>\n",
       "      <td>2016-08-24 15:27:23</td>\n",
       "      <td>NaN</td>\n",
       "      <td>1</td>\n",
       "      <td>3</td>\n",
       "      <td>Twitter Web Client</td>\n",
       "      <td>With new school year underway, #LibraryofCongr...</td>\n",
       "      <td>AnderCrenshaw</td>\n",
       "      <td>Crenshaw</td>\n",
       "      <td>Ander</td>\n",
       "      <td>9/1/44</td>\n",
       "      <td>M</td>\n",
       "      <td>rep</td>\n",
       "      <td>FL</td>\n",
       "      <td>4.0</td>\n",
       "      <td>Republican</td>\n",
       "    </tr>\n",
       "    <tr>\n",
       "      <th>4</th>\n",
       "      <td>4</td>\n",
       "      <td>764242050640412672</td>\n",
       "      <td>2016-08-12 23:27:58</td>\n",
       "      <td>NaN</td>\n",
       "      <td>4</td>\n",
       "      <td>8</td>\n",
       "      <td>Twitter Web Client</td>\n",
       "      <td>Staff at Naval Station Mayport Athletic and Tr...</td>\n",
       "      <td>AnderCrenshaw</td>\n",
       "      <td>Crenshaw</td>\n",
       "      <td>Ander</td>\n",
       "      <td>9/1/44</td>\n",
       "      <td>M</td>\n",
       "      <td>rep</td>\n",
       "      <td>FL</td>\n",
       "      <td>4.0</td>\n",
       "      <td>Republican</td>\n",
       "    </tr>\n",
       "  </tbody>\n",
       "</table>\n",
       "</div>"
      ],
      "text/plain": [
       "  Unnamed: 0                  id           created_at coordinates retweets  \\\n",
       "0          0  774819800036040704  2016-09-11 04:00:10         NaN        3   \n",
       "1          1  771312761275953152  2016-09-01 11:44:27         NaN        5   \n",
       "2          2  769220580755304448  2016-08-26 17:10:52         NaN        1   \n",
       "3          3  768469764385550336  2016-08-24 15:27:23         NaN        1   \n",
       "4          4  764242050640412672  2016-08-12 23:27:58         NaN        4   \n",
       "\n",
       "  favorite_count              source  \\\n",
       "0             12              Buffer   \n",
       "1              6     Mobile Web (M5)   \n",
       "2              2  Twitter Web Client   \n",
       "3              3  Twitter Web Client   \n",
       "4              8  Twitter Web Client   \n",
       "\n",
       "                                                text        twitter last_name  \\\n",
       "0  Never Forget. https://t.co/teBbRzVDv8 https://...  AnderCrenshaw  Crenshaw   \n",
       "1  Keeping an eye on TS #Hermine. Latest info ava...  AnderCrenshaw  Crenshaw   \n",
       "2  Taking a look back in #RollCall. https://t.co/...  AnderCrenshaw  Crenshaw   \n",
       "3  With new school year underway, #LibraryofCongr...  AnderCrenshaw  Crenshaw   \n",
       "4  Staff at Naval Station Mayport Athletic and Tr...  AnderCrenshaw  Crenshaw   \n",
       "\n",
       "  first_name birthday gender type state  district       party  \n",
       "0      Ander   9/1/44      M  rep    FL       4.0  Republican  \n",
       "1      Ander   9/1/44      M  rep    FL       4.0  Republican  \n",
       "2      Ander   9/1/44      M  rep    FL       4.0  Republican  \n",
       "3      Ander   9/1/44      M  rep    FL       4.0  Republican  \n",
       "4      Ander   9/1/44      M  rep    FL       4.0  Republican  "
      ]
     },
     "execution_count": 2,
     "metadata": {},
     "output_type": "execute_result"
    }
   ],
   "source": [
    "df = pd.read_csv('combinedtweets.csv', encoding='utf-8')\n",
    "df.head()"
   ]
  },
  {
   "cell_type": "code",
   "execution_count": 3,
   "metadata": {
    "collapsed": false
   },
   "outputs": [
    {
     "data": {
      "text/plain": [
       "1113951"
      ]
     },
     "execution_count": 3,
     "metadata": {},
     "output_type": "execute_result"
    }
   ],
   "source": [
    "len(df)"
   ]
  },
  {
   "cell_type": "code",
   "execution_count": 5,
   "metadata": {
    "collapsed": true
   },
   "outputs": [],
   "source": [
    "def sentlex_analysis(text):\n",
    "    SWN = sentlex.SWN3Lexicon()\n",
    "    classifier = sentlex.sentanalysis.BasicDocSentiScore()\n",
    "    classifier.classify_document(text, tagged=False, L=SWN, a=True, v=True, n=False, r=False, negation=False, verbose=False)\n",
    "    return classifier.resultdata"
   ]
  },
  {
   "cell_type": "code",
   "execution_count": 6,
   "metadata": {
    "collapsed": false
   },
   "outputs": [
    {
     "data": {
      "text/plain": [
       "{'annotated_doc': '',\n",
       " 'doc': u'Never Forget. https://t.co/teBbRzVDv8 https://t.co/xx83hOj8dm',\n",
       " 'found_list': Counter({u'//t.co/teBbRzVDv8/JJ': 1}),\n",
       " 'resultneg': 0.0,\n",
       " 'resultpos': 0.0,\n",
       " 'tokens_found': 1,\n",
       " 'tokens_negated': 0,\n",
       " 'unscored_list': []}"
      ]
     },
     "execution_count": 6,
     "metadata": {},
     "output_type": "execute_result"
    }
   ],
   "source": [
    "sentlex_analysis(df['text'][0])"
   ]
  },
  {
   "cell_type": "code",
   "execution_count": 7,
   "metadata": {
    "collapsed": false
   },
   "outputs": [
    {
     "data": {
      "text/plain": [
       "{'annotated_doc': '',\n",
       " 'doc': u'. @USNavy Larger, more capable fleet key to national security. Read more at https://t.co/FSkXoXvGxo',\n",
       " 'found_list': Counter({u'@/VB': 1,\n",
       "          u'Read/VB': 1,\n",
       "          u'capable/JJ': 1,\n",
       "          u'more/JJR': 1,\n",
       "          u'national/JJ': 1}),\n",
       " 'resultneg': 0.01875,\n",
       " 'resultpos': 0.10511363636363637,\n",
       " 'tokens_found': 5,\n",
       " 'tokens_negated': 0,\n",
       " 'unscored_list': []}"
      ]
     },
     "execution_count": 7,
     "metadata": {},
     "output_type": "execute_result"
    }
   ],
   "source": [
    "sentlex_analysis(df['text'][90])"
   ]
  },
  {
   "cell_type": "code",
   "execution_count": 8,
   "metadata": {
    "collapsed": false
   },
   "outputs": [
    {
     "data": {
      "text/plain": [
       "{'annotated_doc': '',\n",
       " 'doc': u\"One of Jacksonville's finest, Lt. Col. Sharlene Pigg. Thanks for your service. Best wishes on your retirement!  https://t.co/jpMZNom2UF\",\n",
       " 'found_list': Counter({u'Best/JJS': 1, u'finest/JJS': 1}),\n",
       " 'resultneg': 0.0,\n",
       " 'resultpos': 0.75,\n",
       " 'tokens_found': 2,\n",
       " 'tokens_negated': 0,\n",
       " 'unscored_list': []}"
      ]
     },
     "execution_count": 8,
     "metadata": {},
     "output_type": "execute_result"
    }
   ],
   "source": [
    "sentlex_analysis(df['text'][32])"
   ]
  },
  {
   "cell_type": "code",
   "execution_count": 9,
   "metadata": {
    "collapsed": false
   },
   "outputs": [
    {
     "data": {
      "text/plain": [
       "{'annotated_doc': '',\n",
       " 'doc': u'U.S response to malaria saves lives. Furthering this mission as co-chair of Malaria Caucus.@malarianomore http://t.co/ndrjPligVK',\n",
       " 'found_list': Counter({u'Furthering/VBG': 1, u'malaria/VB': 1}),\n",
       " 'resultneg': 0.0,\n",
       " 'resultpos': 0.25,\n",
       " 'tokens_found': 2,\n",
       " 'tokens_negated': 0,\n",
       " 'unscored_list': []}"
      ]
     },
     "execution_count": 9,
     "metadata": {},
     "output_type": "execute_result"
    }
   ],
   "source": [
    "sentlex_analysis(df['text'][728])"
   ]
  },
  {
   "cell_type": "code",
   "execution_count": 10,
   "metadata": {
    "collapsed": false
   },
   "outputs": [
    {
     "data": {
      "text/plain": [
       "{'annotated_doc': '',\n",
       " 'doc': u\"Enjoyed having you! RT @Yoest: Just wrapped up my senior experience in @CongCulberson 's office! Truly an incredible internship. #TX07\",\n",
       " 'found_list': Counter({u'@/JJ': 1,\n",
       "          u'having/VBG': 1,\n",
       "          u'incredible/JJ': 1,\n",
       "          u'senior/JJ': 1,\n",
       "          u'wrapped/VBD': 1}),\n",
       " 'resultneg': 0.02631578947368421,\n",
       " 'resultpos': 0.30153508771929827,\n",
       " 'tokens_found': 5,\n",
       " 'tokens_negated': 0,\n",
       " 'unscored_list': []}"
      ]
     },
     "execution_count": 10,
     "metadata": {},
     "output_type": "execute_result"
    }
   ],
   "source": [
    "sentlex_analysis(df['text'][29385])"
   ]
  },
  {
   "cell_type": "code",
   "execution_count": 11,
   "metadata": {
    "collapsed": false
   },
   "outputs": [
    {
     "data": {
      "text/plain": [
       "{'annotated_doc': '',\n",
       " 'doc': u'Timothy Hovey',\n",
       " 'found_list': Counter(),\n",
       " 'resultneg': 0.0,\n",
       " 'resultpos': 0.0,\n",
       " 'tokens_found': 0,\n",
       " 'tokens_negated': 0,\n",
       " 'unscored_list': []}"
      ]
     },
     "execution_count": 11,
     "metadata": {},
     "output_type": "execute_result"
    }
   ],
   "source": [
    "sentlex_analysis(df['text'][432673])"
   ]
  },
  {
   "cell_type": "code",
   "execution_count": 19,
   "metadata": {
    "collapsed": false
   },
   "outputs": [],
   "source": [
    "def classify_score(input_text):\n",
    "    SWN = sentlex.SWN3Lexicon()\n",
    "    classifier = sentlex.sentanalysis.BasicDocSentiScore()\n",
    "    return classifier.classify_document(input_text, tagged=False, L=SWN, a=True, v=True, n=False, r=False, negation=False, verbose=False)"
   ]
  },
  {
   "cell_type": "code",
   "execution_count": 20,
   "metadata": {
    "collapsed": false
   },
   "outputs": [
    {
     "data": {
      "text/plain": [
       "(0.12869318181818185, 0.011363636363636364)"
      ]
     },
     "execution_count": 20,
     "metadata": {},
     "output_type": "execute_result"
    }
   ],
   "source": [
    "classify_score(df['text'][39])"
   ]
  },
  {
   "cell_type": "code",
   "execution_count": 22,
   "metadata": {
    "collapsed": true
   },
   "outputs": [],
   "source": [
    "df_test = df[:10]"
   ]
  },
  {
   "cell_type": "code",
   "execution_count": 23,
   "metadata": {
    "collapsed": false
   },
   "outputs": [
    {
     "data": {
      "text/html": [
       "<div>\n",
       "<table border=\"1\" class=\"dataframe\">\n",
       "  <thead>\n",
       "    <tr style=\"text-align: right;\">\n",
       "      <th></th>\n",
       "      <th>Unnamed: 0</th>\n",
       "      <th>id</th>\n",
       "      <th>created_at</th>\n",
       "      <th>coordinates</th>\n",
       "      <th>retweets</th>\n",
       "      <th>favorite_count</th>\n",
       "      <th>source</th>\n",
       "      <th>text</th>\n",
       "      <th>twitter</th>\n",
       "      <th>last_name</th>\n",
       "      <th>first_name</th>\n",
       "      <th>birthday</th>\n",
       "      <th>gender</th>\n",
       "      <th>type</th>\n",
       "      <th>state</th>\n",
       "      <th>district</th>\n",
       "      <th>party</th>\n",
       "    </tr>\n",
       "  </thead>\n",
       "  <tbody>\n",
       "    <tr>\n",
       "      <th>0</th>\n",
       "      <td>0</td>\n",
       "      <td>774819800036040704</td>\n",
       "      <td>2016-09-11 04:00:10</td>\n",
       "      <td>NaN</td>\n",
       "      <td>3</td>\n",
       "      <td>12</td>\n",
       "      <td>Buffer</td>\n",
       "      <td>Never Forget. https://t.co/teBbRzVDv8 https://...</td>\n",
       "      <td>AnderCrenshaw</td>\n",
       "      <td>Crenshaw</td>\n",
       "      <td>Ander</td>\n",
       "      <td>9/1/44</td>\n",
       "      <td>M</td>\n",
       "      <td>rep</td>\n",
       "      <td>FL</td>\n",
       "      <td>4.0</td>\n",
       "      <td>Republican</td>\n",
       "    </tr>\n",
       "    <tr>\n",
       "      <th>1</th>\n",
       "      <td>1</td>\n",
       "      <td>771312761275953152</td>\n",
       "      <td>2016-09-01 11:44:27</td>\n",
       "      <td>NaN</td>\n",
       "      <td>5</td>\n",
       "      <td>6</td>\n",
       "      <td>Mobile Web (M5)</td>\n",
       "      <td>Keeping an eye on TS #Hermine. Latest info ava...</td>\n",
       "      <td>AnderCrenshaw</td>\n",
       "      <td>Crenshaw</td>\n",
       "      <td>Ander</td>\n",
       "      <td>9/1/44</td>\n",
       "      <td>M</td>\n",
       "      <td>rep</td>\n",
       "      <td>FL</td>\n",
       "      <td>4.0</td>\n",
       "      <td>Republican</td>\n",
       "    </tr>\n",
       "    <tr>\n",
       "      <th>2</th>\n",
       "      <td>2</td>\n",
       "      <td>769220580755304448</td>\n",
       "      <td>2016-08-26 17:10:52</td>\n",
       "      <td>NaN</td>\n",
       "      <td>1</td>\n",
       "      <td>2</td>\n",
       "      <td>Twitter Web Client</td>\n",
       "      <td>Taking a look back in #RollCall. https://t.co/...</td>\n",
       "      <td>AnderCrenshaw</td>\n",
       "      <td>Crenshaw</td>\n",
       "      <td>Ander</td>\n",
       "      <td>9/1/44</td>\n",
       "      <td>M</td>\n",
       "      <td>rep</td>\n",
       "      <td>FL</td>\n",
       "      <td>4.0</td>\n",
       "      <td>Republican</td>\n",
       "    </tr>\n",
       "    <tr>\n",
       "      <th>3</th>\n",
       "      <td>3</td>\n",
       "      <td>768469764385550336</td>\n",
       "      <td>2016-08-24 15:27:23</td>\n",
       "      <td>NaN</td>\n",
       "      <td>1</td>\n",
       "      <td>3</td>\n",
       "      <td>Twitter Web Client</td>\n",
       "      <td>With new school year underway, #LibraryofCongr...</td>\n",
       "      <td>AnderCrenshaw</td>\n",
       "      <td>Crenshaw</td>\n",
       "      <td>Ander</td>\n",
       "      <td>9/1/44</td>\n",
       "      <td>M</td>\n",
       "      <td>rep</td>\n",
       "      <td>FL</td>\n",
       "      <td>4.0</td>\n",
       "      <td>Republican</td>\n",
       "    </tr>\n",
       "    <tr>\n",
       "      <th>4</th>\n",
       "      <td>4</td>\n",
       "      <td>764242050640412672</td>\n",
       "      <td>2016-08-12 23:27:58</td>\n",
       "      <td>NaN</td>\n",
       "      <td>4</td>\n",
       "      <td>8</td>\n",
       "      <td>Twitter Web Client</td>\n",
       "      <td>Staff at Naval Station Mayport Athletic and Tr...</td>\n",
       "      <td>AnderCrenshaw</td>\n",
       "      <td>Crenshaw</td>\n",
       "      <td>Ander</td>\n",
       "      <td>9/1/44</td>\n",
       "      <td>M</td>\n",
       "      <td>rep</td>\n",
       "      <td>FL</td>\n",
       "      <td>4.0</td>\n",
       "      <td>Republican</td>\n",
       "    </tr>\n",
       "  </tbody>\n",
       "</table>\n",
       "</div>"
      ],
      "text/plain": [
       "  Unnamed: 0                  id           created_at coordinates retweets  \\\n",
       "0          0  774819800036040704  2016-09-11 04:00:10         NaN        3   \n",
       "1          1  771312761275953152  2016-09-01 11:44:27         NaN        5   \n",
       "2          2  769220580755304448  2016-08-26 17:10:52         NaN        1   \n",
       "3          3  768469764385550336  2016-08-24 15:27:23         NaN        1   \n",
       "4          4  764242050640412672  2016-08-12 23:27:58         NaN        4   \n",
       "\n",
       "  favorite_count              source  \\\n",
       "0             12              Buffer   \n",
       "1              6     Mobile Web (M5)   \n",
       "2              2  Twitter Web Client   \n",
       "3              3  Twitter Web Client   \n",
       "4              8  Twitter Web Client   \n",
       "\n",
       "                                                text        twitter last_name  \\\n",
       "0  Never Forget. https://t.co/teBbRzVDv8 https://...  AnderCrenshaw  Crenshaw   \n",
       "1  Keeping an eye on TS #Hermine. Latest info ava...  AnderCrenshaw  Crenshaw   \n",
       "2  Taking a look back in #RollCall. https://t.co/...  AnderCrenshaw  Crenshaw   \n",
       "3  With new school year underway, #LibraryofCongr...  AnderCrenshaw  Crenshaw   \n",
       "4  Staff at Naval Station Mayport Athletic and Tr...  AnderCrenshaw  Crenshaw   \n",
       "\n",
       "  first_name birthday gender type state  district       party  \n",
       "0      Ander   9/1/44      M  rep    FL       4.0  Republican  \n",
       "1      Ander   9/1/44      M  rep    FL       4.0  Republican  \n",
       "2      Ander   9/1/44      M  rep    FL       4.0  Republican  \n",
       "3      Ander   9/1/44      M  rep    FL       4.0  Republican  \n",
       "4      Ander   9/1/44      M  rep    FL       4.0  Republican  "
      ]
     },
     "execution_count": 23,
     "metadata": {},
     "output_type": "execute_result"
    }
   ],
   "source": [
    "df_test.head()"
   ]
  },
  {
   "cell_type": "code",
   "execution_count": 24,
   "metadata": {
    "collapsed": false
   },
   "outputs": [
    {
     "name": "stderr",
     "output_type": "stream",
     "text": [
      "/Users/allison18paige/anaconda/lib/python2.7/site-packages/ipykernel/__main__.py:1: SettingWithCopyWarning: \n",
      "A value is trying to be set on a copy of a slice from a DataFrame.\n",
      "Try using .loc[row_indexer,col_indexer] = value instead\n",
      "\n",
      "See the caveats in the documentation: http://pandas.pydata.org/pandas-docs/stable/indexing.html#indexing-view-versus-copy\n",
      "  if __name__ == '__main__':\n"
     ]
    }
   ],
   "source": [
    "df_test['sentiment_scores'] = map(classify_score, df_test['text'])"
   ]
  },
  {
   "cell_type": "code",
   "execution_count": 25,
   "metadata": {
    "collapsed": false
   },
   "outputs": [
    {
     "data": {
      "text/html": [
       "<div>\n",
       "<table border=\"1\" class=\"dataframe\">\n",
       "  <thead>\n",
       "    <tr style=\"text-align: right;\">\n",
       "      <th></th>\n",
       "      <th>Unnamed: 0</th>\n",
       "      <th>id</th>\n",
       "      <th>created_at</th>\n",
       "      <th>coordinates</th>\n",
       "      <th>retweets</th>\n",
       "      <th>favorite_count</th>\n",
       "      <th>source</th>\n",
       "      <th>text</th>\n",
       "      <th>twitter</th>\n",
       "      <th>last_name</th>\n",
       "      <th>first_name</th>\n",
       "      <th>birthday</th>\n",
       "      <th>gender</th>\n",
       "      <th>type</th>\n",
       "      <th>state</th>\n",
       "      <th>district</th>\n",
       "      <th>party</th>\n",
       "      <th>sentiment_scores</th>\n",
       "    </tr>\n",
       "  </thead>\n",
       "  <tbody>\n",
       "    <tr>\n",
       "      <th>0</th>\n",
       "      <td>0</td>\n",
       "      <td>774819800036040704</td>\n",
       "      <td>2016-09-11 04:00:10</td>\n",
       "      <td>NaN</td>\n",
       "      <td>3</td>\n",
       "      <td>12</td>\n",
       "      <td>Buffer</td>\n",
       "      <td>Never Forget. https://t.co/teBbRzVDv8 https://...</td>\n",
       "      <td>AnderCrenshaw</td>\n",
       "      <td>Crenshaw</td>\n",
       "      <td>Ander</td>\n",
       "      <td>9/1/44</td>\n",
       "      <td>M</td>\n",
       "      <td>rep</td>\n",
       "      <td>FL</td>\n",
       "      <td>4.0</td>\n",
       "      <td>Republican</td>\n",
       "      <td>(0.0, 0.0)</td>\n",
       "    </tr>\n",
       "    <tr>\n",
       "      <th>1</th>\n",
       "      <td>1</td>\n",
       "      <td>771312761275953152</td>\n",
       "      <td>2016-09-01 11:44:27</td>\n",
       "      <td>NaN</td>\n",
       "      <td>5</td>\n",
       "      <td>6</td>\n",
       "      <td>Mobile Web (M5)</td>\n",
       "      <td>Keeping an eye on TS #Hermine. Latest info ava...</td>\n",
       "      <td>AnderCrenshaw</td>\n",
       "      <td>Crenshaw</td>\n",
       "      <td>Ander</td>\n",
       "      <td>9/1/44</td>\n",
       "      <td>M</td>\n",
       "      <td>rep</td>\n",
       "      <td>FL</td>\n",
       "      <td>4.0</td>\n",
       "      <td>Republican</td>\n",
       "      <td>(0.125, 0.0284090909091)</td>\n",
       "    </tr>\n",
       "    <tr>\n",
       "      <th>2</th>\n",
       "      <td>2</td>\n",
       "      <td>769220580755304448</td>\n",
       "      <td>2016-08-26 17:10:52</td>\n",
       "      <td>NaN</td>\n",
       "      <td>1</td>\n",
       "      <td>2</td>\n",
       "      <td>Twitter Web Client</td>\n",
       "      <td>Taking a look back in #RollCall. https://t.co/...</td>\n",
       "      <td>AnderCrenshaw</td>\n",
       "      <td>Crenshaw</td>\n",
       "      <td>Ander</td>\n",
       "      <td>9/1/44</td>\n",
       "      <td>M</td>\n",
       "      <td>rep</td>\n",
       "      <td>FL</td>\n",
       "      <td>4.0</td>\n",
       "      <td>Republican</td>\n",
       "      <td>(0.0257936507937, 0.00992063492063)</td>\n",
       "    </tr>\n",
       "    <tr>\n",
       "      <th>3</th>\n",
       "      <td>3</td>\n",
       "      <td>768469764385550336</td>\n",
       "      <td>2016-08-24 15:27:23</td>\n",
       "      <td>NaN</td>\n",
       "      <td>1</td>\n",
       "      <td>3</td>\n",
       "      <td>Twitter Web Client</td>\n",
       "      <td>With new school year underway, #LibraryofCongr...</td>\n",
       "      <td>AnderCrenshaw</td>\n",
       "      <td>Crenshaw</td>\n",
       "      <td>Ander</td>\n",
       "      <td>9/1/44</td>\n",
       "      <td>M</td>\n",
       "      <td>rep</td>\n",
       "      <td>FL</td>\n",
       "      <td>4.0</td>\n",
       "      <td>Republican</td>\n",
       "      <td>(0.390422077922, 0.0487012987013)</td>\n",
       "    </tr>\n",
       "    <tr>\n",
       "      <th>4</th>\n",
       "      <td>4</td>\n",
       "      <td>764242050640412672</td>\n",
       "      <td>2016-08-12 23:27:58</td>\n",
       "      <td>NaN</td>\n",
       "      <td>4</td>\n",
       "      <td>8</td>\n",
       "      <td>Twitter Web Client</td>\n",
       "      <td>Staff at Naval Station Mayport Athletic and Tr...</td>\n",
       "      <td>AnderCrenshaw</td>\n",
       "      <td>Crenshaw</td>\n",
       "      <td>Ander</td>\n",
       "      <td>9/1/44</td>\n",
       "      <td>M</td>\n",
       "      <td>rep</td>\n",
       "      <td>FL</td>\n",
       "      <td>4.0</td>\n",
       "      <td>Republican</td>\n",
       "      <td>(0.0, 0.0)</td>\n",
       "    </tr>\n",
       "  </tbody>\n",
       "</table>\n",
       "</div>"
      ],
      "text/plain": [
       "  Unnamed: 0                  id           created_at coordinates retweets  \\\n",
       "0          0  774819800036040704  2016-09-11 04:00:10         NaN        3   \n",
       "1          1  771312761275953152  2016-09-01 11:44:27         NaN        5   \n",
       "2          2  769220580755304448  2016-08-26 17:10:52         NaN        1   \n",
       "3          3  768469764385550336  2016-08-24 15:27:23         NaN        1   \n",
       "4          4  764242050640412672  2016-08-12 23:27:58         NaN        4   \n",
       "\n",
       "  favorite_count              source  \\\n",
       "0             12              Buffer   \n",
       "1              6     Mobile Web (M5)   \n",
       "2              2  Twitter Web Client   \n",
       "3              3  Twitter Web Client   \n",
       "4              8  Twitter Web Client   \n",
       "\n",
       "                                                text        twitter last_name  \\\n",
       "0  Never Forget. https://t.co/teBbRzVDv8 https://...  AnderCrenshaw  Crenshaw   \n",
       "1  Keeping an eye on TS #Hermine. Latest info ava...  AnderCrenshaw  Crenshaw   \n",
       "2  Taking a look back in #RollCall. https://t.co/...  AnderCrenshaw  Crenshaw   \n",
       "3  With new school year underway, #LibraryofCongr...  AnderCrenshaw  Crenshaw   \n",
       "4  Staff at Naval Station Mayport Athletic and Tr...  AnderCrenshaw  Crenshaw   \n",
       "\n",
       "  first_name birthday gender type state  district       party  \\\n",
       "0      Ander   9/1/44      M  rep    FL       4.0  Republican   \n",
       "1      Ander   9/1/44      M  rep    FL       4.0  Republican   \n",
       "2      Ander   9/1/44      M  rep    FL       4.0  Republican   \n",
       "3      Ander   9/1/44      M  rep    FL       4.0  Republican   \n",
       "4      Ander   9/1/44      M  rep    FL       4.0  Republican   \n",
       "\n",
       "                      sentiment_scores  \n",
       "0                           (0.0, 0.0)  \n",
       "1             (0.125, 0.0284090909091)  \n",
       "2  (0.0257936507937, 0.00992063492063)  \n",
       "3    (0.390422077922, 0.0487012987013)  \n",
       "4                           (0.0, 0.0)  "
      ]
     },
     "execution_count": 25,
     "metadata": {},
     "output_type": "execute_result"
    }
   ],
   "source": [
    "df_test.head()"
   ]
  },
  {
   "cell_type": "code",
   "execution_count": 26,
   "metadata": {
    "collapsed": true
   },
   "outputs": [],
   "source": [
    "df_2016 = df[(df['created_at'] > '2015-12-31') & (df['created_at'] < '2017-01-01')]"
   ]
  },
  {
   "cell_type": "code",
   "execution_count": 27,
   "metadata": {
    "collapsed": false
   },
   "outputs": [
    {
     "ename": "KeyboardInterrupt",
     "evalue": "",
     "output_type": "error",
     "traceback": [
      "\u001b[0;31m---------------------------------------------------------------------------\u001b[0m",
      "\u001b[0;31mKeyboardInterrupt\u001b[0m                         Traceback (most recent call last)",
      "\u001b[0;32m<ipython-input-27-8aa662471e1e>\u001b[0m in \u001b[0;36m<module>\u001b[0;34m()\u001b[0m\n\u001b[0;32m----> 1\u001b[0;31m \u001b[0mdf_2016\u001b[0m\u001b[0;34m[\u001b[0m\u001b[0;34m'sentiment_scores'\u001b[0m\u001b[0;34m]\u001b[0m \u001b[0;34m=\u001b[0m \u001b[0mmap\u001b[0m\u001b[0;34m(\u001b[0m\u001b[0mclassify_score\u001b[0m\u001b[0;34m,\u001b[0m \u001b[0mdf_2016\u001b[0m\u001b[0;34m[\u001b[0m\u001b[0;34m'text'\u001b[0m\u001b[0;34m]\u001b[0m\u001b[0;34m)\u001b[0m\u001b[0;34m\u001b[0m\u001b[0m\n\u001b[0m",
      "\u001b[0;32m<ipython-input-19-428f8c56fbbe>\u001b[0m in \u001b[0;36mclassify_score\u001b[0;34m(input_text)\u001b[0m\n\u001b[1;32m      1\u001b[0m \u001b[0;32mdef\u001b[0m \u001b[0mclassify_score\u001b[0m\u001b[0;34m(\u001b[0m\u001b[0minput_text\u001b[0m\u001b[0;34m)\u001b[0m\u001b[0;34m:\u001b[0m\u001b[0;34m\u001b[0m\u001b[0m\n\u001b[0;32m----> 2\u001b[0;31m     \u001b[0mSWN\u001b[0m \u001b[0;34m=\u001b[0m \u001b[0msentlex\u001b[0m\u001b[0;34m.\u001b[0m\u001b[0mSWN3Lexicon\u001b[0m\u001b[0;34m(\u001b[0m\u001b[0;34m)\u001b[0m\u001b[0;34m\u001b[0m\u001b[0m\n\u001b[0m\u001b[1;32m      3\u001b[0m     \u001b[0mclassifier\u001b[0m \u001b[0;34m=\u001b[0m \u001b[0msentlex\u001b[0m\u001b[0;34m.\u001b[0m\u001b[0msentanalysis\u001b[0m\u001b[0;34m.\u001b[0m\u001b[0mBasicDocSentiScore\u001b[0m\u001b[0;34m(\u001b[0m\u001b[0;34m)\u001b[0m\u001b[0;34m\u001b[0m\u001b[0m\n\u001b[1;32m      4\u001b[0m     \u001b[0;32mreturn\u001b[0m \u001b[0mclassifier\u001b[0m\u001b[0;34m.\u001b[0m\u001b[0mclassify_document\u001b[0m\u001b[0;34m(\u001b[0m\u001b[0minput_text\u001b[0m\u001b[0;34m,\u001b[0m \u001b[0mtagged\u001b[0m\u001b[0;34m=\u001b[0m\u001b[0mFalse\u001b[0m\u001b[0;34m,\u001b[0m \u001b[0mL\u001b[0m\u001b[0;34m=\u001b[0m\u001b[0mSWN\u001b[0m\u001b[0;34m,\u001b[0m \u001b[0ma\u001b[0m\u001b[0;34m=\u001b[0m\u001b[0mTrue\u001b[0m\u001b[0;34m,\u001b[0m \u001b[0mv\u001b[0m\u001b[0;34m=\u001b[0m\u001b[0mTrue\u001b[0m\u001b[0;34m,\u001b[0m \u001b[0mn\u001b[0m\u001b[0;34m=\u001b[0m\u001b[0mFalse\u001b[0m\u001b[0;34m,\u001b[0m \u001b[0mr\u001b[0m\u001b[0;34m=\u001b[0m\u001b[0mFalse\u001b[0m\u001b[0;34m,\u001b[0m \u001b[0mnegation\u001b[0m\u001b[0;34m=\u001b[0m\u001b[0mFalse\u001b[0m\u001b[0;34m,\u001b[0m \u001b[0mverbose\u001b[0m\u001b[0;34m=\u001b[0m\u001b[0mFalse\u001b[0m\u001b[0;34m)\u001b[0m\u001b[0;34m\u001b[0m\u001b[0m\n",
      "\u001b[0;32m/Users/allison18paige/anaconda/lib/python2.7/site-packages/sentlex/sentlex.pyc\u001b[0m in \u001b[0;36m__init__\u001b[0;34m(self)\u001b[0m\n\u001b[1;32m    509\u001b[0m         \u001b[0mdatapath\u001b[0m \u001b[0;34m=\u001b[0m \u001b[0mos\u001b[0m\u001b[0;34m.\u001b[0m\u001b[0mpath\u001b[0m\u001b[0;34m.\u001b[0m\u001b[0mjoin\u001b[0m\u001b[0;34m(\u001b[0m\u001b[0mcurpath\u001b[0m\u001b[0;34m,\u001b[0m \u001b[0;34m'data/SentiWordNet_3.0.0.lex'\u001b[0m\u001b[0;34m)\u001b[0m\u001b[0;34m\u001b[0m\u001b[0m\n\u001b[1;32m    510\u001b[0m         \u001b[0msuper\u001b[0m\u001b[0;34m(\u001b[0m\u001b[0mSWN3Lexicon\u001b[0m\u001b[0;34m,\u001b[0m \u001b[0mself\u001b[0m\u001b[0;34m)\u001b[0m\u001b[0;34m.\u001b[0m\u001b[0m__init__\u001b[0m\u001b[0;34m(\u001b[0m\u001b[0;34m'SWN3'\u001b[0m\u001b[0;34m,\u001b[0m \u001b[0msentlexutil\u001b[0m\u001b[0;34m.\u001b[0m\u001b[0mreadSWN3\u001b[0m\u001b[0;34m)\u001b[0m\u001b[0;34m\u001b[0m\u001b[0m\n\u001b[0;32m--> 511\u001b[0;31m         \u001b[0mself\u001b[0m\u001b[0;34m.\u001b[0m\u001b[0mload\u001b[0m\u001b[0;34m(\u001b[0m\u001b[0mdatapath\u001b[0m\u001b[0;34m)\u001b[0m\u001b[0;34m\u001b[0m\u001b[0m\n\u001b[0m\u001b[1;32m    512\u001b[0m \u001b[0;34m\u001b[0m\u001b[0m\n\u001b[1;32m    513\u001b[0m \u001b[0;34m\u001b[0m\u001b[0m\n",
      "\u001b[0;32m/Users/allison18paige/anaconda/lib/python2.7/site-packages/sentlex/sentlex.pyc\u001b[0m in \u001b[0;36mload\u001b[0;34m(self, datafile)\u001b[0m\n\u001b[1;32m    317\u001b[0m         \u001b[0;32massert\u001b[0m \u001b[0mself\u001b[0m\u001b[0;34m.\u001b[0m\u001b[0mf_loader\u001b[0m\u001b[0;34m,\u001b[0m \u001b[0;34m'This lexicon does not have an associated loader function.'\u001b[0m\u001b[0;34m\u001b[0m\u001b[0m\n\u001b[1;32m    318\u001b[0m \u001b[0;34m\u001b[0m\u001b[0m\n\u001b[0;32m--> 319\u001b[0;31m         \u001b[0mself\u001b[0m\u001b[0;34m.\u001b[0m\u001b[0mA\u001b[0m \u001b[0;34m=\u001b[0m \u001b[0mself\u001b[0m\u001b[0;34m.\u001b[0m\u001b[0mf_loader\u001b[0m\u001b[0;34m(\u001b[0m\u001b[0;34m'a'\u001b[0m\u001b[0;34m,\u001b[0m \u001b[0mdatafile\u001b[0m\u001b[0;34m)\u001b[0m\u001b[0;34m\u001b[0m\u001b[0m\n\u001b[0m\u001b[1;32m    320\u001b[0m         \u001b[0mself\u001b[0m\u001b[0;34m.\u001b[0m\u001b[0mV\u001b[0m \u001b[0;34m=\u001b[0m \u001b[0mself\u001b[0m\u001b[0;34m.\u001b[0m\u001b[0mf_loader\u001b[0m\u001b[0;34m(\u001b[0m\u001b[0;34m'v'\u001b[0m\u001b[0;34m,\u001b[0m \u001b[0mdatafile\u001b[0m\u001b[0;34m)\u001b[0m\u001b[0;34m\u001b[0m\u001b[0m\n\u001b[1;32m    321\u001b[0m         \u001b[0mself\u001b[0m\u001b[0;34m.\u001b[0m\u001b[0mR\u001b[0m \u001b[0;34m=\u001b[0m \u001b[0mself\u001b[0m\u001b[0;34m.\u001b[0m\u001b[0mf_loader\u001b[0m\u001b[0;34m(\u001b[0m\u001b[0;34m'r'\u001b[0m\u001b[0;34m,\u001b[0m \u001b[0mdatafile\u001b[0m\u001b[0;34m)\u001b[0m\u001b[0;34m\u001b[0m\u001b[0m\n",
      "\u001b[0;32m/Users/allison18paige/anaconda/lib/python2.7/site-packages/sentlex/sentlexutil.pyc\u001b[0m in \u001b[0;36mreadSWN3\u001b[0;34m(postag, datafile)\u001b[0m\n\u001b[1;32m     76\u001b[0m         \u001b[0msynset_type\u001b[0m \u001b[0;34m=\u001b[0m \u001b[0mentry\u001b[0m\u001b[0;34m[\u001b[0m\u001b[0;36m0\u001b[0m\u001b[0;34m]\u001b[0m\u001b[0;34m\u001b[0m\u001b[0m\n\u001b[1;32m     77\u001b[0m         \u001b[0;31m# synset_data is a tuple (offset, posval, negval)\u001b[0m\u001b[0;34m\u001b[0m\u001b[0;34m\u001b[0m\u001b[0m\n\u001b[0;32m---> 78\u001b[0;31m         \u001b[0msynset_data\u001b[0m \u001b[0;34m=\u001b[0m \u001b[0;34m(\u001b[0m\u001b[0mentry\u001b[0m\u001b[0;34m[\u001b[0m\u001b[0;36m1\u001b[0m\u001b[0;34m]\u001b[0m\u001b[0;34m,\u001b[0m \u001b[0mfloat\u001b[0m\u001b[0;34m(\u001b[0m\u001b[0mentry\u001b[0m\u001b[0;34m[\u001b[0m\u001b[0;36m2\u001b[0m\u001b[0;34m]\u001b[0m\u001b[0;34m)\u001b[0m\u001b[0;34m,\u001b[0m \u001b[0mfloat\u001b[0m\u001b[0;34m(\u001b[0m\u001b[0mentry\u001b[0m\u001b[0;34m[\u001b[0m\u001b[0;36m3\u001b[0m\u001b[0;34m]\u001b[0m\u001b[0;34m)\u001b[0m\u001b[0;34m)\u001b[0m\u001b[0;34m\u001b[0m\u001b[0m\n\u001b[0m\u001b[1;32m     79\u001b[0m         \u001b[0;31m# now add this entry to the correct list\u001b[0m\u001b[0;34m\u001b[0m\u001b[0;34m\u001b[0m\u001b[0m\n\u001b[1;32m     80\u001b[0m         \u001b[0;32mif\u001b[0m \u001b[0msynset_type\u001b[0m \u001b[0;34m==\u001b[0m \u001b[0mpostag\u001b[0m\u001b[0;34m:\u001b[0m\u001b[0;34m\u001b[0m\u001b[0m\n",
      "\u001b[0;31mKeyboardInterrupt\u001b[0m: "
     ]
    }
   ],
   "source": [
    "df_2016['sentiment_scores'] = map(classify_score, df_2016['text'])"
   ]
  },
  {
   "cell_type": "code",
   "execution_count": null,
   "metadata": {
    "collapsed": true
   },
   "outputs": [],
   "source": []
  }
 ],
 "metadata": {
  "kernelspec": {
   "display_name": "Python 2",
   "language": "python",
   "name": "python2"
  },
  "language_info": {
   "codemirror_mode": {
    "name": "ipython",
    "version": 2
   },
   "file_extension": ".py",
   "mimetype": "text/x-python",
   "name": "python",
   "nbconvert_exporter": "python",
   "pygments_lexer": "ipython2",
   "version": "2.7.12"
  }
 },
 "nbformat": 4,
 "nbformat_minor": 0
}
